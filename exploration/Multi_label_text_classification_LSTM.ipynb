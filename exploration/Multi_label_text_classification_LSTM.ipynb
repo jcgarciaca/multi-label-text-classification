{
  "nbformat": 4,
  "nbformat_minor": 0,
  "metadata": {
    "colab": {
      "provenance": []
    },
    "kernelspec": {
      "name": "python3",
      "display_name": "Python 3"
    },
    "language_info": {
      "name": "python"
    },
    "gpuClass": "standard",
    "accelerator": "GPU"
  },
  "cells": [
    {
      "cell_type": "markdown",
      "source": [
        "## Import libraries"
      ],
      "metadata": {
        "id": "H8rJVupZTLyo"
      }
    },
    {
      "cell_type": "code",
      "source": [
        "import os\n",
        "import numpy as np\n",
        "import pandas as pd\n",
        "import tensorflow as tf\n",
        "from tensorflow import keras\n",
        "from tensorflow.keras import layers\n",
        "from sklearn.model_selection import train_test_split\n",
        "import matplotlib.pyplot as plt\n",
        "\n",
        "from ast import literal_eval"
      ],
      "metadata": {
        "id": "pE9RHHGSTZC9"
      },
      "execution_count": 1,
      "outputs": []
    },
    {
      "cell_type": "markdown",
      "source": [
        "## Perform EDA"
      ],
      "metadata": {
        "id": "RHfNqGsST1y9"
      }
    },
    {
      "cell_type": "code",
      "source": [
        "arxiv_data = pd.read_csv(\n",
        "    'https://github.com/soumik12345/multi-label-text-classification/releases/download/v0.2/arxiv_data.csv'\n",
        ")\n",
        "arxiv_data.head()"
      ],
      "metadata": {
        "colab": {
          "base_uri": "https://localhost:8080/",
          "height": 206
        },
        "id": "G6EjgZXgT4al",
        "outputId": "1f057185-c09c-48a2-8da4-aa174aad58f3"
      },
      "execution_count": 2,
      "outputs": [
        {
          "output_type": "execute_result",
          "data": {
            "text/plain": [
              "                                              titles  \\\n",
              "0  Survey on Semantic Stereo Matching / Semantic ...   \n",
              "1  FUTURE-AI: Guiding Principles and Consensus Re...   \n",
              "2  Enforcing Mutual Consistency of Hard Regions f...   \n",
              "3  Parameter Decoupling Strategy for Semi-supervi...   \n",
              "4  Background-Foreground Segmentation for Interio...   \n",
              "\n",
              "                                           summaries  \\\n",
              "0  Stereo matching is one of the widely used tech...   \n",
              "1  The recent advancements in artificial intellig...   \n",
              "2  In this paper, we proposed a novel mutual cons...   \n",
              "3  Consistency training has proven to be an advan...   \n",
              "4  To ensure safety in automated driving, the cor...   \n",
              "\n",
              "                         terms  \n",
              "0           ['cs.CV', 'cs.LG']  \n",
              "1  ['cs.CV', 'cs.AI', 'cs.LG']  \n",
              "2           ['cs.CV', 'cs.AI']  \n",
              "3                    ['cs.CV']  \n",
              "4           ['cs.CV', 'cs.LG']  "
            ],
            "text/html": [
              "\n",
              "  <div id=\"df-a8aa83d3-2d9b-4344-97b3-603ec60ff1fe\">\n",
              "    <div class=\"colab-df-container\">\n",
              "      <div>\n",
              "<style scoped>\n",
              "    .dataframe tbody tr th:only-of-type {\n",
              "        vertical-align: middle;\n",
              "    }\n",
              "\n",
              "    .dataframe tbody tr th {\n",
              "        vertical-align: top;\n",
              "    }\n",
              "\n",
              "    .dataframe thead th {\n",
              "        text-align: right;\n",
              "    }\n",
              "</style>\n",
              "<table border=\"1\" class=\"dataframe\">\n",
              "  <thead>\n",
              "    <tr style=\"text-align: right;\">\n",
              "      <th></th>\n",
              "      <th>titles</th>\n",
              "      <th>summaries</th>\n",
              "      <th>terms</th>\n",
              "    </tr>\n",
              "  </thead>\n",
              "  <tbody>\n",
              "    <tr>\n",
              "      <th>0</th>\n",
              "      <td>Survey on Semantic Stereo Matching / Semantic ...</td>\n",
              "      <td>Stereo matching is one of the widely used tech...</td>\n",
              "      <td>['cs.CV', 'cs.LG']</td>\n",
              "    </tr>\n",
              "    <tr>\n",
              "      <th>1</th>\n",
              "      <td>FUTURE-AI: Guiding Principles and Consensus Re...</td>\n",
              "      <td>The recent advancements in artificial intellig...</td>\n",
              "      <td>['cs.CV', 'cs.AI', 'cs.LG']</td>\n",
              "    </tr>\n",
              "    <tr>\n",
              "      <th>2</th>\n",
              "      <td>Enforcing Mutual Consistency of Hard Regions f...</td>\n",
              "      <td>In this paper, we proposed a novel mutual cons...</td>\n",
              "      <td>['cs.CV', 'cs.AI']</td>\n",
              "    </tr>\n",
              "    <tr>\n",
              "      <th>3</th>\n",
              "      <td>Parameter Decoupling Strategy for Semi-supervi...</td>\n",
              "      <td>Consistency training has proven to be an advan...</td>\n",
              "      <td>['cs.CV']</td>\n",
              "    </tr>\n",
              "    <tr>\n",
              "      <th>4</th>\n",
              "      <td>Background-Foreground Segmentation for Interio...</td>\n",
              "      <td>To ensure safety in automated driving, the cor...</td>\n",
              "      <td>['cs.CV', 'cs.LG']</td>\n",
              "    </tr>\n",
              "  </tbody>\n",
              "</table>\n",
              "</div>\n",
              "      <button class=\"colab-df-convert\" onclick=\"convertToInteractive('df-a8aa83d3-2d9b-4344-97b3-603ec60ff1fe')\"\n",
              "              title=\"Convert this dataframe to an interactive table.\"\n",
              "              style=\"display:none;\">\n",
              "        \n",
              "  <svg xmlns=\"http://www.w3.org/2000/svg\" height=\"24px\"viewBox=\"0 0 24 24\"\n",
              "       width=\"24px\">\n",
              "    <path d=\"M0 0h24v24H0V0z\" fill=\"none\"/>\n",
              "    <path d=\"M18.56 5.44l.94 2.06.94-2.06 2.06-.94-2.06-.94-.94-2.06-.94 2.06-2.06.94zm-11 1L8.5 8.5l.94-2.06 2.06-.94-2.06-.94L8.5 2.5l-.94 2.06-2.06.94zm10 10l.94 2.06.94-2.06 2.06-.94-2.06-.94-.94-2.06-.94 2.06-2.06.94z\"/><path d=\"M17.41 7.96l-1.37-1.37c-.4-.4-.92-.59-1.43-.59-.52 0-1.04.2-1.43.59L10.3 9.45l-7.72 7.72c-.78.78-.78 2.05 0 2.83L4 21.41c.39.39.9.59 1.41.59.51 0 1.02-.2 1.41-.59l7.78-7.78 2.81-2.81c.8-.78.8-2.07 0-2.86zM5.41 20L4 18.59l7.72-7.72 1.47 1.35L5.41 20z\"/>\n",
              "  </svg>\n",
              "      </button>\n",
              "      \n",
              "  <style>\n",
              "    .colab-df-container {\n",
              "      display:flex;\n",
              "      flex-wrap:wrap;\n",
              "      gap: 12px;\n",
              "    }\n",
              "\n",
              "    .colab-df-convert {\n",
              "      background-color: #E8F0FE;\n",
              "      border: none;\n",
              "      border-radius: 50%;\n",
              "      cursor: pointer;\n",
              "      display: none;\n",
              "      fill: #1967D2;\n",
              "      height: 32px;\n",
              "      padding: 0 0 0 0;\n",
              "      width: 32px;\n",
              "    }\n",
              "\n",
              "    .colab-df-convert:hover {\n",
              "      background-color: #E2EBFA;\n",
              "      box-shadow: 0px 1px 2px rgba(60, 64, 67, 0.3), 0px 1px 3px 1px rgba(60, 64, 67, 0.15);\n",
              "      fill: #174EA6;\n",
              "    }\n",
              "\n",
              "    [theme=dark] .colab-df-convert {\n",
              "      background-color: #3B4455;\n",
              "      fill: #D2E3FC;\n",
              "    }\n",
              "\n",
              "    [theme=dark] .colab-df-convert:hover {\n",
              "      background-color: #434B5C;\n",
              "      box-shadow: 0px 1px 3px 1px rgba(0, 0, 0, 0.15);\n",
              "      filter: drop-shadow(0px 1px 2px rgba(0, 0, 0, 0.3));\n",
              "      fill: #FFFFFF;\n",
              "    }\n",
              "  </style>\n",
              "\n",
              "      <script>\n",
              "        const buttonEl =\n",
              "          document.querySelector('#df-a8aa83d3-2d9b-4344-97b3-603ec60ff1fe button.colab-df-convert');\n",
              "        buttonEl.style.display =\n",
              "          google.colab.kernel.accessAllowed ? 'block' : 'none';\n",
              "\n",
              "        async function convertToInteractive(key) {\n",
              "          const element = document.querySelector('#df-a8aa83d3-2d9b-4344-97b3-603ec60ff1fe');\n",
              "          const dataTable =\n",
              "            await google.colab.kernel.invokeFunction('convertToInteractive',\n",
              "                                                     [key], {});\n",
              "          if (!dataTable) return;\n",
              "\n",
              "          const docLinkHtml = 'Like what you see? Visit the ' +\n",
              "            '<a target=\"_blank\" href=https://colab.research.google.com/notebooks/data_table.ipynb>data table notebook</a>'\n",
              "            + ' to learn more about interactive tables.';\n",
              "          element.innerHTML = '';\n",
              "          dataTable['output_type'] = 'display_data';\n",
              "          await google.colab.output.renderOutput(dataTable, element);\n",
              "          const docLink = document.createElement('div');\n",
              "          docLink.innerHTML = docLinkHtml;\n",
              "          element.appendChild(docLink);\n",
              "        }\n",
              "      </script>\n",
              "    </div>\n",
              "  </div>\n",
              "  "
            ]
          },
          "metadata": {},
          "execution_count": 2
        }
      ]
    },
    {
      "cell_type": "code",
      "source": [
        "print('There are {} registers in the dataset'.format(len(arxiv_data)))"
      ],
      "metadata": {
        "colab": {
          "base_uri": "https://localhost:8080/"
        },
        "id": "SYIs9oIMUHHF",
        "outputId": "64a55193-3dc1-44fd-feab-5c03e0fe1323"
      },
      "execution_count": 3,
      "outputs": [
        {
          "output_type": "stream",
          "name": "stdout",
          "text": [
            "There are 51774 registers in the dataset\n"
          ]
        }
      ]
    },
    {
      "cell_type": "code",
      "source": [
        "total_duplicate_titles = sum(arxiv_data[\"titles\"].duplicated())\n",
        "print('There are {} duplicated titles'.format(total_duplicate_titles))"
      ],
      "metadata": {
        "colab": {
          "base_uri": "https://localhost:8080/"
        },
        "id": "jnrIYouhUg4-",
        "outputId": "7cfa8a91-d6a4-43f1-80a1-fd22504adba2"
      },
      "execution_count": 4,
      "outputs": [
        {
          "output_type": "stream",
          "name": "stdout",
          "text": [
            "There are 12802 duplicated titles\n"
          ]
        }
      ]
    },
    {
      "cell_type": "code",
      "source": [
        "arxiv_data.head()"
      ],
      "metadata": {
        "colab": {
          "base_uri": "https://localhost:8080/",
          "height": 206
        },
        "id": "pQYVer7OU-_x",
        "outputId": "04cf09f4-ee1b-47db-bcc4-f2cc117f044f"
      },
      "execution_count": 5,
      "outputs": [
        {
          "output_type": "execute_result",
          "data": {
            "text/plain": [
              "                                              titles  \\\n",
              "0  Survey on Semantic Stereo Matching / Semantic ...   \n",
              "1  FUTURE-AI: Guiding Principles and Consensus Re...   \n",
              "2  Enforcing Mutual Consistency of Hard Regions f...   \n",
              "3  Parameter Decoupling Strategy for Semi-supervi...   \n",
              "4  Background-Foreground Segmentation for Interio...   \n",
              "\n",
              "                                           summaries  \\\n",
              "0  Stereo matching is one of the widely used tech...   \n",
              "1  The recent advancements in artificial intellig...   \n",
              "2  In this paper, we proposed a novel mutual cons...   \n",
              "3  Consistency training has proven to be an advan...   \n",
              "4  To ensure safety in automated driving, the cor...   \n",
              "\n",
              "                         terms  \n",
              "0           ['cs.CV', 'cs.LG']  \n",
              "1  ['cs.CV', 'cs.AI', 'cs.LG']  \n",
              "2           ['cs.CV', 'cs.AI']  \n",
              "3                    ['cs.CV']  \n",
              "4           ['cs.CV', 'cs.LG']  "
            ],
            "text/html": [
              "\n",
              "  <div id=\"df-52dfab08-c3a8-477e-9c72-c59c247396a2\">\n",
              "    <div class=\"colab-df-container\">\n",
              "      <div>\n",
              "<style scoped>\n",
              "    .dataframe tbody tr th:only-of-type {\n",
              "        vertical-align: middle;\n",
              "    }\n",
              "\n",
              "    .dataframe tbody tr th {\n",
              "        vertical-align: top;\n",
              "    }\n",
              "\n",
              "    .dataframe thead th {\n",
              "        text-align: right;\n",
              "    }\n",
              "</style>\n",
              "<table border=\"1\" class=\"dataframe\">\n",
              "  <thead>\n",
              "    <tr style=\"text-align: right;\">\n",
              "      <th></th>\n",
              "      <th>titles</th>\n",
              "      <th>summaries</th>\n",
              "      <th>terms</th>\n",
              "    </tr>\n",
              "  </thead>\n",
              "  <tbody>\n",
              "    <tr>\n",
              "      <th>0</th>\n",
              "      <td>Survey on Semantic Stereo Matching / Semantic ...</td>\n",
              "      <td>Stereo matching is one of the widely used tech...</td>\n",
              "      <td>['cs.CV', 'cs.LG']</td>\n",
              "    </tr>\n",
              "    <tr>\n",
              "      <th>1</th>\n",
              "      <td>FUTURE-AI: Guiding Principles and Consensus Re...</td>\n",
              "      <td>The recent advancements in artificial intellig...</td>\n",
              "      <td>['cs.CV', 'cs.AI', 'cs.LG']</td>\n",
              "    </tr>\n",
              "    <tr>\n",
              "      <th>2</th>\n",
              "      <td>Enforcing Mutual Consistency of Hard Regions f...</td>\n",
              "      <td>In this paper, we proposed a novel mutual cons...</td>\n",
              "      <td>['cs.CV', 'cs.AI']</td>\n",
              "    </tr>\n",
              "    <tr>\n",
              "      <th>3</th>\n",
              "      <td>Parameter Decoupling Strategy for Semi-supervi...</td>\n",
              "      <td>Consistency training has proven to be an advan...</td>\n",
              "      <td>['cs.CV']</td>\n",
              "    </tr>\n",
              "    <tr>\n",
              "      <th>4</th>\n",
              "      <td>Background-Foreground Segmentation for Interio...</td>\n",
              "      <td>To ensure safety in automated driving, the cor...</td>\n",
              "      <td>['cs.CV', 'cs.LG']</td>\n",
              "    </tr>\n",
              "  </tbody>\n",
              "</table>\n",
              "</div>\n",
              "      <button class=\"colab-df-convert\" onclick=\"convertToInteractive('df-52dfab08-c3a8-477e-9c72-c59c247396a2')\"\n",
              "              title=\"Convert this dataframe to an interactive table.\"\n",
              "              style=\"display:none;\">\n",
              "        \n",
              "  <svg xmlns=\"http://www.w3.org/2000/svg\" height=\"24px\"viewBox=\"0 0 24 24\"\n",
              "       width=\"24px\">\n",
              "    <path d=\"M0 0h24v24H0V0z\" fill=\"none\"/>\n",
              "    <path d=\"M18.56 5.44l.94 2.06.94-2.06 2.06-.94-2.06-.94-.94-2.06-.94 2.06-2.06.94zm-11 1L8.5 8.5l.94-2.06 2.06-.94-2.06-.94L8.5 2.5l-.94 2.06-2.06.94zm10 10l.94 2.06.94-2.06 2.06-.94-2.06-.94-.94-2.06-.94 2.06-2.06.94z\"/><path d=\"M17.41 7.96l-1.37-1.37c-.4-.4-.92-.59-1.43-.59-.52 0-1.04.2-1.43.59L10.3 9.45l-7.72 7.72c-.78.78-.78 2.05 0 2.83L4 21.41c.39.39.9.59 1.41.59.51 0 1.02-.2 1.41-.59l7.78-7.78 2.81-2.81c.8-.78.8-2.07 0-2.86zM5.41 20L4 18.59l7.72-7.72 1.47 1.35L5.41 20z\"/>\n",
              "  </svg>\n",
              "      </button>\n",
              "      \n",
              "  <style>\n",
              "    .colab-df-container {\n",
              "      display:flex;\n",
              "      flex-wrap:wrap;\n",
              "      gap: 12px;\n",
              "    }\n",
              "\n",
              "    .colab-df-convert {\n",
              "      background-color: #E8F0FE;\n",
              "      border: none;\n",
              "      border-radius: 50%;\n",
              "      cursor: pointer;\n",
              "      display: none;\n",
              "      fill: #1967D2;\n",
              "      height: 32px;\n",
              "      padding: 0 0 0 0;\n",
              "      width: 32px;\n",
              "    }\n",
              "\n",
              "    .colab-df-convert:hover {\n",
              "      background-color: #E2EBFA;\n",
              "      box-shadow: 0px 1px 2px rgba(60, 64, 67, 0.3), 0px 1px 3px 1px rgba(60, 64, 67, 0.15);\n",
              "      fill: #174EA6;\n",
              "    }\n",
              "\n",
              "    [theme=dark] .colab-df-convert {\n",
              "      background-color: #3B4455;\n",
              "      fill: #D2E3FC;\n",
              "    }\n",
              "\n",
              "    [theme=dark] .colab-df-convert:hover {\n",
              "      background-color: #434B5C;\n",
              "      box-shadow: 0px 1px 3px 1px rgba(0, 0, 0, 0.15);\n",
              "      filter: drop-shadow(0px 1px 2px rgba(0, 0, 0, 0.3));\n",
              "      fill: #FFFFFF;\n",
              "    }\n",
              "  </style>\n",
              "\n",
              "      <script>\n",
              "        const buttonEl =\n",
              "          document.querySelector('#df-52dfab08-c3a8-477e-9c72-c59c247396a2 button.colab-df-convert');\n",
              "        buttonEl.style.display =\n",
              "          google.colab.kernel.accessAllowed ? 'block' : 'none';\n",
              "\n",
              "        async function convertToInteractive(key) {\n",
              "          const element = document.querySelector('#df-52dfab08-c3a8-477e-9c72-c59c247396a2');\n",
              "          const dataTable =\n",
              "            await google.colab.kernel.invokeFunction('convertToInteractive',\n",
              "                                                     [key], {});\n",
              "          if (!dataTable) return;\n",
              "\n",
              "          const docLinkHtml = 'Like what you see? Visit the ' +\n",
              "            '<a target=\"_blank\" href=https://colab.research.google.com/notebooks/data_table.ipynb>data table notebook</a>'\n",
              "            + ' to learn more about interactive tables.';\n",
              "          element.innerHTML = '';\n",
              "          dataTable['output_type'] = 'display_data';\n",
              "          await google.colab.output.renderOutput(dataTable, element);\n",
              "          const docLink = document.createElement('div');\n",
              "          docLink.innerHTML = docLinkHtml;\n",
              "          element.appendChild(docLink);\n",
              "        }\n",
              "      </script>\n",
              "    </div>\n",
              "  </div>\n",
              "  "
            ]
          },
          "metadata": {},
          "execution_count": 5
        }
      ]
    },
    {
      "cell_type": "code",
      "source": [
        "arxiv_data = arxiv_data[~arxiv_data['titles'].duplicated()]\n",
        "print('There are {} registers in the deduplicated dataset'.format(len(arxiv_data)))"
      ],
      "metadata": {
        "colab": {
          "base_uri": "https://localhost:8080/"
        },
        "id": "iza2jyQAUnZY",
        "outputId": "da27c851-c2f0-40ec-8137-c0dc97e89d9b"
      },
      "execution_count": 6,
      "outputs": [
        {
          "output_type": "stream",
          "name": "stdout",
          "text": [
            "There are 38972 registers in the deduplicated dataset\n"
          ]
        }
      ]
    },
    {
      "cell_type": "code",
      "source": [
        "arxiv_data[\"terms\"].value_counts()"
      ],
      "metadata": {
        "colab": {
          "base_uri": "https://localhost:8080/"
        },
        "id": "5UXtZYSkVPFW",
        "outputId": "af2a5f79-6874-4222-8a46-0a4672751059"
      },
      "execution_count": 7,
      "outputs": [
        {
          "output_type": "execute_result",
          "data": {
            "text/plain": [
              "['cs.CV']                                          12747\n",
              "['cs.LG', 'stat.ML']                                4074\n",
              "['cs.LG']                                           2046\n",
              "['cs.CV', 'cs.LG']                                  1486\n",
              "['cs.LG', 'cs.AI']                                  1206\n",
              "                                                   ...  \n",
              "['cs.LG', 'cs.CL', 'cs.HC', 'stat.ML']                 1\n",
              "['cs.LG', 'cs.AI', 'cs.CL', 'cs.PL', 'stat.ML']        1\n",
              "['cs.LG', 'cs.CL', 'stat.ME', 'stat.ML']               1\n",
              "['cs.LG', 'cs.CL', 'cs.LO', 'stat.ML']                 1\n",
              "['stat.ML', 'cs.CV', 'cs.LG', 'q-bio.QM']              1\n",
              "Name: terms, Length: 3157, dtype: int64"
            ]
          },
          "metadata": {},
          "execution_count": 7
        }
      ]
    },
    {
      "cell_type": "code",
      "source": [
        "print(sum(arxiv_data[\"terms\"].value_counts() == 1))"
      ],
      "metadata": {
        "colab": {
          "base_uri": "https://localhost:8080/"
        },
        "id": "BW9vbSAvVVo5",
        "outputId": "04517e82-02ea-4ffa-c14e-6b9b616dab65"
      },
      "execution_count": 8,
      "outputs": [
        {
          "output_type": "stream",
          "name": "stdout",
          "text": [
            "2321\n"
          ]
        }
      ]
    },
    {
      "cell_type": "code",
      "source": [
        "print(arxiv_data[\"terms\"].nunique())"
      ],
      "metadata": {
        "colab": {
          "base_uri": "https://localhost:8080/"
        },
        "id": "zXkNcvowVgFc",
        "outputId": "ee226891-8263-4e0c-c26d-eac5e62fc0de"
      },
      "execution_count": 9,
      "outputs": [
        {
          "output_type": "stream",
          "name": "stdout",
          "text": [
            "3157\n"
          ]
        }
      ]
    },
    {
      "cell_type": "code",
      "source": [
        "arxiv_data_filtered = arxiv_data.groupby(\"terms\").filter(lambda x: len(x) > 1)\n",
        "arxiv_data_filtered.shape"
      ],
      "metadata": {
        "colab": {
          "base_uri": "https://localhost:8080/"
        },
        "id": "cY4TQ96FV0CU",
        "outputId": "1c9030ba-5ef1-4a95-9d4b-80712e1503da"
      },
      "execution_count": 10,
      "outputs": [
        {
          "output_type": "execute_result",
          "data": {
            "text/plain": [
              "(36651, 3)"
            ]
          },
          "metadata": {},
          "execution_count": 10
        }
      ]
    },
    {
      "cell_type": "code",
      "source": [
        "arxiv_data_filtered.head()"
      ],
      "metadata": {
        "colab": {
          "base_uri": "https://localhost:8080/",
          "height": 206
        },
        "id": "DSLn7ziwV_UF",
        "outputId": "578f6b83-88d5-4f1e-9ea8-bf07a147bcae"
      },
      "execution_count": 11,
      "outputs": [
        {
          "output_type": "execute_result",
          "data": {
            "text/plain": [
              "                                              titles  \\\n",
              "0  Survey on Semantic Stereo Matching / Semantic ...   \n",
              "1  FUTURE-AI: Guiding Principles and Consensus Re...   \n",
              "2  Enforcing Mutual Consistency of Hard Regions f...   \n",
              "3  Parameter Decoupling Strategy for Semi-supervi...   \n",
              "4  Background-Foreground Segmentation for Interio...   \n",
              "\n",
              "                                           summaries  \\\n",
              "0  Stereo matching is one of the widely used tech...   \n",
              "1  The recent advancements in artificial intellig...   \n",
              "2  In this paper, we proposed a novel mutual cons...   \n",
              "3  Consistency training has proven to be an advan...   \n",
              "4  To ensure safety in automated driving, the cor...   \n",
              "\n",
              "                         terms  \n",
              "0           ['cs.CV', 'cs.LG']  \n",
              "1  ['cs.CV', 'cs.AI', 'cs.LG']  \n",
              "2           ['cs.CV', 'cs.AI']  \n",
              "3                    ['cs.CV']  \n",
              "4           ['cs.CV', 'cs.LG']  "
            ],
            "text/html": [
              "\n",
              "  <div id=\"df-aaf081c7-a485-4b23-a22d-3a6c2a2d6ebc\">\n",
              "    <div class=\"colab-df-container\">\n",
              "      <div>\n",
              "<style scoped>\n",
              "    .dataframe tbody tr th:only-of-type {\n",
              "        vertical-align: middle;\n",
              "    }\n",
              "\n",
              "    .dataframe tbody tr th {\n",
              "        vertical-align: top;\n",
              "    }\n",
              "\n",
              "    .dataframe thead th {\n",
              "        text-align: right;\n",
              "    }\n",
              "</style>\n",
              "<table border=\"1\" class=\"dataframe\">\n",
              "  <thead>\n",
              "    <tr style=\"text-align: right;\">\n",
              "      <th></th>\n",
              "      <th>titles</th>\n",
              "      <th>summaries</th>\n",
              "      <th>terms</th>\n",
              "    </tr>\n",
              "  </thead>\n",
              "  <tbody>\n",
              "    <tr>\n",
              "      <th>0</th>\n",
              "      <td>Survey on Semantic Stereo Matching / Semantic ...</td>\n",
              "      <td>Stereo matching is one of the widely used tech...</td>\n",
              "      <td>['cs.CV', 'cs.LG']</td>\n",
              "    </tr>\n",
              "    <tr>\n",
              "      <th>1</th>\n",
              "      <td>FUTURE-AI: Guiding Principles and Consensus Re...</td>\n",
              "      <td>The recent advancements in artificial intellig...</td>\n",
              "      <td>['cs.CV', 'cs.AI', 'cs.LG']</td>\n",
              "    </tr>\n",
              "    <tr>\n",
              "      <th>2</th>\n",
              "      <td>Enforcing Mutual Consistency of Hard Regions f...</td>\n",
              "      <td>In this paper, we proposed a novel mutual cons...</td>\n",
              "      <td>['cs.CV', 'cs.AI']</td>\n",
              "    </tr>\n",
              "    <tr>\n",
              "      <th>3</th>\n",
              "      <td>Parameter Decoupling Strategy for Semi-supervi...</td>\n",
              "      <td>Consistency training has proven to be an advan...</td>\n",
              "      <td>['cs.CV']</td>\n",
              "    </tr>\n",
              "    <tr>\n",
              "      <th>4</th>\n",
              "      <td>Background-Foreground Segmentation for Interio...</td>\n",
              "      <td>To ensure safety in automated driving, the cor...</td>\n",
              "      <td>['cs.CV', 'cs.LG']</td>\n",
              "    </tr>\n",
              "  </tbody>\n",
              "</table>\n",
              "</div>\n",
              "      <button class=\"colab-df-convert\" onclick=\"convertToInteractive('df-aaf081c7-a485-4b23-a22d-3a6c2a2d6ebc')\"\n",
              "              title=\"Convert this dataframe to an interactive table.\"\n",
              "              style=\"display:none;\">\n",
              "        \n",
              "  <svg xmlns=\"http://www.w3.org/2000/svg\" height=\"24px\"viewBox=\"0 0 24 24\"\n",
              "       width=\"24px\">\n",
              "    <path d=\"M0 0h24v24H0V0z\" fill=\"none\"/>\n",
              "    <path d=\"M18.56 5.44l.94 2.06.94-2.06 2.06-.94-2.06-.94-.94-2.06-.94 2.06-2.06.94zm-11 1L8.5 8.5l.94-2.06 2.06-.94-2.06-.94L8.5 2.5l-.94 2.06-2.06.94zm10 10l.94 2.06.94-2.06 2.06-.94-2.06-.94-.94-2.06-.94 2.06-2.06.94z\"/><path d=\"M17.41 7.96l-1.37-1.37c-.4-.4-.92-.59-1.43-.59-.52 0-1.04.2-1.43.59L10.3 9.45l-7.72 7.72c-.78.78-.78 2.05 0 2.83L4 21.41c.39.39.9.59 1.41.59.51 0 1.02-.2 1.41-.59l7.78-7.78 2.81-2.81c.8-.78.8-2.07 0-2.86zM5.41 20L4 18.59l7.72-7.72 1.47 1.35L5.41 20z\"/>\n",
              "  </svg>\n",
              "      </button>\n",
              "      \n",
              "  <style>\n",
              "    .colab-df-container {\n",
              "      display:flex;\n",
              "      flex-wrap:wrap;\n",
              "      gap: 12px;\n",
              "    }\n",
              "\n",
              "    .colab-df-convert {\n",
              "      background-color: #E8F0FE;\n",
              "      border: none;\n",
              "      border-radius: 50%;\n",
              "      cursor: pointer;\n",
              "      display: none;\n",
              "      fill: #1967D2;\n",
              "      height: 32px;\n",
              "      padding: 0 0 0 0;\n",
              "      width: 32px;\n",
              "    }\n",
              "\n",
              "    .colab-df-convert:hover {\n",
              "      background-color: #E2EBFA;\n",
              "      box-shadow: 0px 1px 2px rgba(60, 64, 67, 0.3), 0px 1px 3px 1px rgba(60, 64, 67, 0.15);\n",
              "      fill: #174EA6;\n",
              "    }\n",
              "\n",
              "    [theme=dark] .colab-df-convert {\n",
              "      background-color: #3B4455;\n",
              "      fill: #D2E3FC;\n",
              "    }\n",
              "\n",
              "    [theme=dark] .colab-df-convert:hover {\n",
              "      background-color: #434B5C;\n",
              "      box-shadow: 0px 1px 3px 1px rgba(0, 0, 0, 0.15);\n",
              "      filter: drop-shadow(0px 1px 2px rgba(0, 0, 0, 0.3));\n",
              "      fill: #FFFFFF;\n",
              "    }\n",
              "  </style>\n",
              "\n",
              "      <script>\n",
              "        const buttonEl =\n",
              "          document.querySelector('#df-aaf081c7-a485-4b23-a22d-3a6c2a2d6ebc button.colab-df-convert');\n",
              "        buttonEl.style.display =\n",
              "          google.colab.kernel.accessAllowed ? 'block' : 'none';\n",
              "\n",
              "        async function convertToInteractive(key) {\n",
              "          const element = document.querySelector('#df-aaf081c7-a485-4b23-a22d-3a6c2a2d6ebc');\n",
              "          const dataTable =\n",
              "            await google.colab.kernel.invokeFunction('convertToInteractive',\n",
              "                                                     [key], {});\n",
              "          if (!dataTable) return;\n",
              "\n",
              "          const docLinkHtml = 'Like what you see? Visit the ' +\n",
              "            '<a target=\"_blank\" href=https://colab.research.google.com/notebooks/data_table.ipynb>data table notebook</a>'\n",
              "            + ' to learn more about interactive tables.';\n",
              "          element.innerHTML = '';\n",
              "          dataTable['output_type'] = 'display_data';\n",
              "          await google.colab.output.renderOutput(dataTable, element);\n",
              "          const docLink = document.createElement('div');\n",
              "          docLink.innerHTML = docLinkHtml;\n",
              "          element.appendChild(docLink);\n",
              "        }\n",
              "      </script>\n",
              "    </div>\n",
              "  </div>\n",
              "  "
            ]
          },
          "metadata": {},
          "execution_count": 11
        }
      ]
    },
    {
      "cell_type": "code",
      "source": [
        "arxiv_data_filtered[\"terms\"].value_counts()"
      ],
      "metadata": {
        "colab": {
          "base_uri": "https://localhost:8080/"
        },
        "id": "XYwgX7jHWQ89",
        "outputId": "c56d3dba-8b2a-49f0-9216-de8983416692"
      },
      "execution_count": 12,
      "outputs": [
        {
          "output_type": "execute_result",
          "data": {
            "text/plain": [
              "['cs.CV']                                                         12747\n",
              "['cs.LG', 'stat.ML']                                               4074\n",
              "['cs.LG']                                                          2046\n",
              "['cs.CV', 'cs.LG']                                                 1486\n",
              "['cs.LG', 'cs.AI']                                                 1206\n",
              "                                                                  ...  \n",
              "['cs.CV', 'cs.LG', 'eess.IV', 'eess.SP', 'stat.ML']                   2\n",
              "['cs.LG', 'cs.CL', 'cs.CV', 'cs.NE', 'stat.ML']                       2\n",
              "['stat.ML', 'cs.IT', 'cs.LG', 'math.IT', 'math.ST', 'stat.TH']        2\n",
              "['cs.CV', 'cs.CL', 'cs.LG', 'eess.AS', 'eess.IV']                     2\n",
              "['cs.LG', 'G.3']                                                      2\n",
              "Name: terms, Length: 836, dtype: int64"
            ]
          },
          "metadata": {},
          "execution_count": 12
        }
      ]
    },
    {
      "cell_type": "markdown",
      "source": [
        "## Convert the string labels to lists of strings"
      ],
      "metadata": {
        "id": "ZmmibxDqWZRe"
      }
    },
    {
      "cell_type": "code",
      "source": [
        "arxiv_data_filtered[\"terms\"] = arxiv_data_filtered[\"terms\"].apply(lambda x: literal_eval(x))\n",
        "arxiv_data_filtered[\"terms\"]"
      ],
      "metadata": {
        "colab": {
          "base_uri": "https://localhost:8080/"
        },
        "id": "al_dtvSqWjDX",
        "outputId": "4d600ee1-1ac0-40c5-81a8-ff264b4e250f"
      },
      "execution_count": 13,
      "outputs": [
        {
          "output_type": "execute_result",
          "data": {
            "text/plain": [
              "0                    [cs.CV, cs.LG]\n",
              "1             [cs.CV, cs.AI, cs.LG]\n",
              "2                    [cs.CV, cs.AI]\n",
              "3                           [cs.CV]\n",
              "4                    [cs.CV, cs.LG]\n",
              "                    ...            \n",
              "51767                       [cs.CV]\n",
              "51768                       [cs.CV]\n",
              "51770                [cs.CV, cs.DM]\n",
              "51771    [stat.ML, cs.LG, q-bio.GN]\n",
              "51772                       [cs.CV]\n",
              "Name: terms, Length: 36651, dtype: object"
            ]
          },
          "metadata": {},
          "execution_count": 13
        }
      ]
    },
    {
      "cell_type": "markdown",
      "source": [
        "## Use stratified splits because of class imbalance"
      ],
      "metadata": {
        "id": "D43u6OXMWsHa"
      }
    },
    {
      "cell_type": "code",
      "source": [
        "test_split = 0.1\n",
        "\n",
        "train_df, test_df = train_test_split(\n",
        "    arxiv_data_filtered,\n",
        "    test_size=test_split,\n",
        "    stratify = arxiv_data_filtered['terms'].values\n",
        ")\n",
        "\n",
        "val_df = test_df.sample(frac=0.5)\n",
        "test_df.drop(val_df.index, inplace=True)\n",
        "\n",
        "print('Number of registers in train set: {}'.format(len(train_df)))\n",
        "print('Number of registers in val set: {}'.format(len(val_df)))\n",
        "print('Number of registers in test set: {}'.format(len(test_df)))"
      ],
      "metadata": {
        "id": "xrKtYWZPW1cQ",
        "colab": {
          "base_uri": "https://localhost:8080/"
        },
        "outputId": "b3dae2ef-4aac-42e1-f1b9-5b1d9ab0dce5"
      },
      "execution_count": 14,
      "outputs": [
        {
          "output_type": "stream",
          "name": "stdout",
          "text": [
            "Number of registers in train set: 32985\n",
            "Number of registers in val set: 1833\n",
            "Number of registers in test set: 1833\n"
          ]
        }
      ]
    },
    {
      "cell_type": "markdown",
      "source": [
        "## Multi-label binarization"
      ],
      "metadata": {
        "id": "YPEeMRfQYdv3"
      }
    },
    {
      "cell_type": "code",
      "source": [
        "terms = tf.ragged.constant(train_df['terms'].values)\n",
        "lookup = tf.keras.layers.StringLookup(output_mode='multi_hot')\n",
        "lookup.adapt(terms)"
      ],
      "metadata": {
        "id": "I7KmxTcVYiE0"
      },
      "execution_count": 15,
      "outputs": []
    },
    {
      "cell_type": "code",
      "source": [
        "vocab = lookup.get_vocabulary()"
      ],
      "metadata": {
        "id": "Wmfs2vAEYsZi"
      },
      "execution_count": 16,
      "outputs": []
    },
    {
      "cell_type": "code",
      "source": [
        "print(\"Vocabulary:\\n\")\n",
        "print(vocab)"
      ],
      "metadata": {
        "colab": {
          "base_uri": "https://localhost:8080/"
        },
        "id": "DpO-e2tEYs2v",
        "outputId": "b7553265-eed4-4cc9-80b0-17cfb69d51df"
      },
      "execution_count": 17,
      "outputs": [
        {
          "output_type": "stream",
          "name": "stdout",
          "text": [
            "Vocabulary:\n",
            "\n",
            "['[UNK]', 'cs.CV', 'cs.LG', 'stat.ML', 'cs.AI', 'eess.IV', 'cs.RO', 'cs.CL', 'cs.NE', 'cs.CR', 'math.OC', 'eess.SP', 'cs.GR', 'cs.SI', 'cs.MM', 'cs.SY', 'cs.IR', 'cs.MA', 'eess.SY', 'cs.HC', 'math.IT', 'cs.IT', 'cs.DC', 'cs.CY', 'stat.AP', 'stat.TH', 'math.ST', 'stat.ME', 'eess.AS', 'cs.SD', 'q-bio.QM', 'q-bio.NC', 'cs.DS', 'cs.GT', 'cs.CG', 'cs.SE', 'cs.NI', 'I.2.6', 'stat.CO', 'math.NA', 'cs.NA', 'physics.chem-ph', 'cs.DB', 'q-bio.BM', 'cs.LO', 'cs.PL', 'cond-mat.dis-nn', '68T45', 'math.PR', 'physics.comp-ph', 'cs.CE', 'cs.AR', 'I.2.10', 'q-fin.ST', 'cond-mat.stat-mech', 'quant-ph', 'math.DS', '68T05', 'cs.CC', 'I.4.6', 'physics.data-an', 'physics.soc-ph', 'physics.ao-ph', 'q-bio.GN', 'econ.EM', 'cs.DM', 'physics.med-ph', 'cs.PF', 'astro-ph.IM', 'I.4.8', 'math.AT', 'I.4', 'q-fin.TR', 'cs.FL', 'I.5.4', 'I.2', '68U10', 'hep-ex', 'cond-mat.mtrl-sci', '68T10', 'physics.geo-ph', 'physics.optics', 'physics.flu-dyn', 'math.AP', 'I.4; I.5', 'I.4.9', 'I.2.6; I.2.8', '68T01', '65D19', 'q-fin.CP', 'nlin.CD', 'math.CO', 'cs.MS', 'I.2.6; I.5.1', 'I.2.10; I.4; I.5', 'I.2.0; I.2.6', '68T07', 'cs.SC', 'cs.ET', 'K.3.2', 'I.2; I.5', 'I.2.8', '68U01', '68T30', 'q-fin.GN', 'q-fin.EC', 'q-bio.MN', 'econ.GN', 'I.4.9; I.5.4', 'I.4.5', 'I.2; I.4; I.5', 'I.2.6; I.2.7', 'I.2.10; I.4.8', '68T99', '68Q32', '68', '62H30', 'q-fin.RM', 'q-fin.PM', 'q-bio.TO', 'q-bio.OT', 'physics.bio-ph', 'nlin.AO', 'math.LO', 'math.FA', 'hep-ph', 'cond-mat.soft', 'I.4.6; I.4.8', 'I.4.4', 'I.4.3', 'I.4.0', 'I.2; J.2', 'I.2; I.2.6; I.2.7', 'I.2.7', 'I.2.6; I.5.4', 'I.2.6; I.2.9', 'I.2.6; I.2.7; H.3.1; H.3.3', 'I.2.6; I.2.10', 'I.2.6, I.5.4', 'I.2.1; J.3', 'I.2.10; I.5.1; I.4.8', 'I.2.10; I.4.8; I.5.4', 'I.2.10; I.2.6', 'I.2.1', 'H.3.1; I.2.6; I.2.7', 'H.3.1; H.3.3; I.2.6; I.2.7', 'G.3', 'F.2.2; I.2.7', 'E.5; E.4; E.2; H.1.1; F.1.1; F.1.3', '68Txx', '62H99', '62H35', '14J60 (Primary) 14F05, 14J26 (Secondary)']\n"
          ]
        }
      ]
    },
    {
      "cell_type": "code",
      "source": [
        "def invert_multi_hot(encoded_labels):\n",
        "  \"\"\"Reverse a single multi-hot encoded label to a tuple of vocab terms.\"\"\"\n",
        "  hot_indices = np.argwhere(encoded_labels==1.0)[..., 0]\n",
        "  return np.take(vocab, hot_indices)"
      ],
      "metadata": {
        "id": "TtiwqsNiZOfo"
      },
      "execution_count": 18,
      "outputs": []
    },
    {
      "cell_type": "code",
      "source": [
        "sample_label = train_df[\"terms\"].iloc[0]\n",
        "print('Original label:', sample_label)"
      ],
      "metadata": {
        "colab": {
          "base_uri": "https://localhost:8080/"
        },
        "id": "TECBn8R4ZqUS",
        "outputId": "59b420d0-9216-4292-f4d6-cfa6261e7935"
      },
      "execution_count": 19,
      "outputs": [
        {
          "output_type": "stream",
          "name": "stdout",
          "text": [
            "Original label: ['cs.CV']\n"
          ]
        }
      ]
    },
    {
      "cell_type": "code",
      "source": [
        "label_binarized = lookup([sample_label])\n",
        "print('Label binarized:', label_binarized)"
      ],
      "metadata": {
        "colab": {
          "base_uri": "https://localhost:8080/"
        },
        "id": "_ElYzaI_Z_bR",
        "outputId": "732f3b4c-46c3-4c09-ab89-8ba32694aab6"
      },
      "execution_count": 20,
      "outputs": [
        {
          "output_type": "stream",
          "name": "stdout",
          "text": [
            "Label binarized: tf.Tensor(\n",
            "[[0. 1. 0. 0. 0. 0. 0. 0. 0. 0. 0. 0. 0. 0. 0. 0. 0. 0. 0. 0. 0. 0. 0. 0.\n",
            "  0. 0. 0. 0. 0. 0. 0. 0. 0. 0. 0. 0. 0. 0. 0. 0. 0. 0. 0. 0. 0. 0. 0. 0.\n",
            "  0. 0. 0. 0. 0. 0. 0. 0. 0. 0. 0. 0. 0. 0. 0. 0. 0. 0. 0. 0. 0. 0. 0. 0.\n",
            "  0. 0. 0. 0. 0. 0. 0. 0. 0. 0. 0. 0. 0. 0. 0. 0. 0. 0. 0. 0. 0. 0. 0. 0.\n",
            "  0. 0. 0. 0. 0. 0. 0. 0. 0. 0. 0. 0. 0. 0. 0. 0. 0. 0. 0. 0. 0. 0. 0. 0.\n",
            "  0. 0. 0. 0. 0. 0. 0. 0. 0. 0. 0. 0. 0. 0. 0. 0. 0. 0. 0. 0. 0. 0. 0. 0.\n",
            "  0. 0. 0. 0. 0. 0. 0. 0. 0.]], shape=(1, 153), dtype=float32)\n"
          ]
        }
      ]
    },
    {
      "cell_type": "code",
      "source": [
        "print(len(label_binarized[0]))\n",
        "print(len(vocab))"
      ],
      "metadata": {
        "colab": {
          "base_uri": "https://localhost:8080/"
        },
        "id": "t2BKR0VbaA8k",
        "outputId": "716cbc12-0725-416f-a15f-dc341218af79"
      },
      "execution_count": 21,
      "outputs": [
        {
          "output_type": "stream",
          "name": "stdout",
          "text": [
            "153\n",
            "153\n"
          ]
        }
      ]
    },
    {
      "cell_type": "code",
      "source": [
        "train_df['summaries'].apply(lambda x: len(x.split())).describe()"
      ],
      "metadata": {
        "colab": {
          "base_uri": "https://localhost:8080/"
        },
        "id": "Edyxbl21aUMq",
        "outputId": "0d9aa42e-2eff-4df6-dbab-083e2ee104b0"
      },
      "execution_count": 22,
      "outputs": [
        {
          "output_type": "execute_result",
          "data": {
            "text/plain": [
              "count    32985.000000\n",
              "mean       171.662149\n",
              "std         45.372576\n",
              "min          5.000000\n",
              "25%        140.000000\n",
              "50%        170.000000\n",
              "75%        201.000000\n",
              "max        498.000000\n",
              "Name: summaries, dtype: float64"
            ]
          },
          "metadata": {},
          "execution_count": 22
        }
      ]
    },
    {
      "cell_type": "code",
      "source": [
        "max_sqlen = 150\n",
        "batch_size = 128\n",
        "padding_token = '<pad>'\n",
        "auto = tf.data.AUTOTUNE"
      ],
      "metadata": {
        "id": "o9kQoSPDaujN"
      },
      "execution_count": 23,
      "outputs": []
    },
    {
      "cell_type": "code",
      "source": [
        "def make_dataset(dataframe, is_train=False):\n",
        "  labels = tf.ragged.constant(dataframe[\"terms\"].values)\n",
        "  label_binarized = lookup(labels).numpy()\n",
        "  dataset = tf.data.Dataset.from_tensor_slices(\n",
        "      (dataframe['summaries'].values, label_binarized)\n",
        "  )\n",
        "  dataset = dataset.shuffle(batch_size * 10) if is_train else dataset\n",
        "  return dataset.batch(batch_size)"
      ],
      "metadata": {
        "id": "Gn_Gf-j7bGsW"
      },
      "execution_count": 24,
      "outputs": []
    },
    {
      "cell_type": "code",
      "source": [
        "train_dataset = make_dataset(train_df, is_train=True)\n",
        "validation_dataset = make_dataset(val_df)\n",
        "test_dataset = make_dataset(test_df)"
      ],
      "metadata": {
        "id": "06Ru51-rbtF-"
      },
      "execution_count": 25,
      "outputs": []
    },
    {
      "cell_type": "markdown",
      "source": [
        "## Dataset preview"
      ],
      "metadata": {
        "id": "U7V4dnmYb8Zr"
      }
    },
    {
      "cell_type": "code",
      "source": [
        "text_batch, label_batch = next(iter(train_dataset))\n",
        "\n",
        "for text, label_bin in zip(text_batch[:5], label_batch[:5]):\n",
        "  print('text: {}'.format(text))\n",
        "  print('label binarized: {}'.format(label_bin))\n",
        "  print('label: {}'.format(invert_multi_hot(label_bin)))\n",
        "  print('')"
      ],
      "metadata": {
        "colab": {
          "base_uri": "https://localhost:8080/"
        },
        "id": "yaWdhafhb-7e",
        "outputId": "dfdee6e7-e3ea-4163-b194-d92a604b7f06"
      },
      "execution_count": 26,
      "outputs": [
        {
          "output_type": "stream",
          "name": "stdout",
          "text": [
            "text: b'Implementing color constancy as a pre-processing step in contemporary digital\\ncameras is of significant importance as it removes the influence of scene\\nillumination on object colors. Several benchmark color constancy datasets have\\nbeen created for the purpose of developing and testing new color constancy\\nmethods. However, they all have numerous drawbacks including a small number of\\nimages, erroneously extracted ground-truth illuminations, long histories of\\nmisuses, violations of their stated assumptions, etc. To overcome such and\\nsimilar problems, in this paper a color constancy benchmark dataset generator\\nis proposed. For a given camera sensor it enables generation of any number of\\nrealistic raw images taken in a subset of the real world, namely images of\\nprinted photographs. Datasets with such images share many positive features\\nwith other existing real-world datasets, while some of the negative features\\nare completely eliminated. The generated images can be successfully used to\\ntrain methods that afterward achieve high accuracy on real-world datasets. This\\nopens the way for creating large enough datasets for advanced deep learning\\ntechniques. Experimental results are presented and discussed. The source code\\nis available at http://www.fer.unizg.hr/ipg/resources/color_constancy/.'\n",
            "label binarized: [0. 1. 0. 0. 0. 0. 0. 0. 0. 0. 0. 0. 0. 0. 0. 0. 0. 0. 0. 0. 0. 0. 0. 0.\n",
            " 0. 0. 0. 0. 0. 0. 0. 0. 0. 0. 0. 0. 0. 0. 0. 0. 0. 0. 0. 0. 0. 0. 0. 0.\n",
            " 0. 0. 0. 0. 0. 0. 0. 0. 0. 0. 0. 0. 0. 0. 0. 0. 0. 0. 0. 0. 0. 0. 0. 0.\n",
            " 0. 0. 0. 0. 0. 0. 0. 0. 0. 0. 0. 0. 0. 0. 0. 0. 0. 0. 0. 0. 0. 0. 0. 0.\n",
            " 0. 0. 0. 0. 0. 0. 0. 0. 0. 0. 0. 0. 0. 0. 0. 0. 0. 0. 0. 0. 0. 0. 0. 0.\n",
            " 0. 0. 0. 0. 0. 0. 0. 0. 0. 0. 0. 0. 0. 0. 0. 0. 0. 0. 0. 0. 0. 0. 0. 0.\n",
            " 0. 0. 0. 0. 0. 0. 0. 0. 0.]\n",
            "label: ['cs.CV']\n",
            "\n",
            "text: b'Neural processes (NPs) learn stochastic processes and predict the\\ndistribution of target output adaptively conditioned on a context set of\\nobserved input-output pairs. Furthermore, Attentive Neural Process (ANP)\\nimproved the prediction accuracy of NPs by incorporating attention mechanism\\namong contexts and targets. In a number of real-world applications such as\\nrobotics, finance, speech, and biology, it is critical to learn the temporal\\norder and recurrent structure from sequential data. However, the capability of\\nNPs capturing these properties is limited due to its permutation invariance\\ninstinct. In this paper, we proposed the Recurrent Attentive Neural Process\\n(RANP), or alternatively, Attentive Neural Process-RecurrentNeural\\nNetwork(ANP-RNN), in which the ANP is incorporated into a recurrent neural\\nnetwork. The proposed model encapsulates both the inductive biases of recurrent\\nneural networks and also the strength of NPs for modelling uncertainty. We\\ndemonstrate that RANP can effectively model sequential data and outperforms NPs\\nand LSTMs remarkably in a 1D regression toy example as well as\\nautonomous-driving applications.'\n",
            "label binarized: [0. 0. 1. 1. 0. 0. 0. 0. 0. 0. 0. 0. 0. 0. 0. 0. 0. 0. 0. 0. 0. 0. 0. 0.\n",
            " 0. 0. 0. 0. 0. 0. 0. 0. 0. 0. 0. 0. 0. 0. 0. 0. 0. 0. 0. 0. 0. 0. 0. 0.\n",
            " 0. 0. 0. 0. 0. 0. 0. 0. 0. 0. 0. 0. 0. 0. 0. 0. 0. 0. 0. 0. 0. 0. 0. 0.\n",
            " 0. 0. 0. 0. 0. 0. 0. 0. 0. 0. 0. 0. 0. 0. 0. 0. 0. 0. 0. 0. 0. 0. 0. 0.\n",
            " 0. 0. 0. 0. 0. 0. 0. 0. 0. 0. 0. 0. 0. 0. 0. 0. 0. 0. 0. 0. 0. 0. 0. 0.\n",
            " 0. 0. 0. 0. 0. 0. 0. 0. 0. 0. 0. 0. 0. 0. 0. 0. 0. 0. 0. 0. 0. 0. 0. 0.\n",
            " 0. 0. 0. 0. 0. 0. 0. 0. 0.]\n",
            "label: ['cs.LG' 'stat.ML']\n",
            "\n",
            "text: b\"Although adaptive optimization algorithms such as Adam show fast convergence\\nin many machine learning tasks, this paper identifies a problem of Adam by\\nanalyzing its performance in a simple non-convex synthetic problem, showing\\nthat Adam's fast convergence would possibly lead the algorithm to local\\nminimums. To address this problem, we improve Adam by proposing a novel\\nadaptive gradient descent algorithm named AdaX. Unlike Adam that ignores the\\npast gradients, AdaX exponentially accumulates the long-term gradient\\ninformation in the past during training, to adaptively tune the learning rate.\\nWe thoroughly prove the convergence of AdaX in both the convex and non-convex\\nsettings. Extensive experiments show that AdaX outperforms Adam in various\\ntasks of computer vision and natural language processing and can catch up with\\nStochastic Gradient Descent.\"\n",
            "label binarized: [0. 0. 1. 1. 0. 0. 0. 0. 0. 0. 0. 0. 0. 0. 0. 0. 0. 0. 0. 0. 0. 0. 0. 0.\n",
            " 0. 0. 0. 0. 0. 0. 0. 0. 0. 0. 0. 0. 0. 0. 0. 0. 0. 0. 0. 0. 0. 0. 0. 0.\n",
            " 0. 0. 0. 0. 0. 0. 0. 0. 0. 0. 0. 0. 0. 0. 0. 0. 0. 0. 0. 0. 0. 0. 0. 0.\n",
            " 0. 0. 0. 0. 0. 0. 0. 0. 0. 0. 0. 0. 0. 0. 0. 0. 0. 0. 0. 0. 0. 0. 0. 0.\n",
            " 0. 0. 0. 0. 0. 0. 0. 0. 0. 0. 0. 0. 0. 0. 0. 0. 0. 0. 0. 0. 0. 0. 0. 0.\n",
            " 0. 0. 0. 0. 0. 0. 0. 0. 0. 0. 0. 0. 0. 0. 0. 0. 0. 0. 0. 0. 0. 0. 0. 0.\n",
            " 0. 0. 0. 0. 0. 0. 0. 0. 0.]\n",
            "label: ['cs.LG' 'stat.ML']\n",
            "\n",
            "text: b'Signalized intersections are managed by controllers that assign right of way\\n(green, yellow, and red lights) to non-conflicting directions. Optimizing the\\nactuation policy of such controllers is expected to alleviate traffic\\ncongestion and its adverse impact. Given such a safety-critical domain, the\\naffiliated actuation policy is required to be interpretable in a way that can\\nbe understood and regulated by a human. This paper presents and analyzes\\nseveral on-line optimization techniques for tuning interpretable control\\nfunctions. Although these techniques are defined in a general way, this paper\\nassumes a specific class of interpretable control functions (polynomial\\nfunctions) for analysis purposes. We show that such an interpretable policy\\nfunction can be as effective as a deep neural network for approximating an\\noptimized signal actuation policy. We present empirical evidence that supports\\nthe use of value-based reinforcement learning for on-line training of the\\ncontrol function. Specifically, we present and study three variants of the Deep\\nQ-learning algorithm that allow the training of an interpretable policy\\nfunction. Our Deep Regulatable Hardmax Q-learning variant is shown to be\\nparticularly effective in optimizing our interpretable actuation policy,\\nresulting in up to 19.4% reduced vehicles delay compared to commonly deployed\\nactuated signal controllers.'\n",
            "label binarized: [0. 0. 1. 1. 0. 0. 0. 0. 0. 0. 0. 0. 0. 0. 0. 0. 0. 0. 0. 0. 0. 0. 0. 0.\n",
            " 0. 0. 0. 0. 0. 0. 0. 0. 0. 0. 0. 0. 0. 0. 0. 0. 0. 0. 0. 0. 0. 0. 0. 0.\n",
            " 0. 0. 0. 0. 0. 0. 0. 0. 0. 0. 0. 0. 0. 0. 0. 0. 0. 0. 0. 0. 0. 0. 0. 0.\n",
            " 0. 0. 0. 0. 0. 0. 0. 0. 0. 0. 0. 0. 0. 0. 0. 0. 0. 0. 0. 0. 0. 0. 0. 0.\n",
            " 0. 0. 0. 0. 0. 0. 0. 0. 0. 0. 0. 0. 0. 0. 0. 0. 0. 0. 0. 0. 0. 0. 0. 0.\n",
            " 0. 0. 0. 0. 0. 0. 0. 0. 0. 0. 0. 0. 0. 0. 0. 0. 0. 0. 0. 0. 0. 0. 0. 0.\n",
            " 0. 0. 0. 0. 0. 0. 0. 0. 0.]\n",
            "label: ['cs.LG' 'stat.ML']\n",
            "\n",
            "text: b'Flow-based generative models are composed of invertible transformations\\nbetween two random variables of the same dimension. Therefore, flow-based\\nmodels cannot be adequately trained if the dimension of the data distribution\\ndoes not match that of the underlying target distribution. In this paper, we\\npropose SoftFlow, a probabilistic framework for training normalizing flows on\\nmanifolds. To sidestep the dimension mismatch problem, SoftFlow estimates a\\nconditional distribution of the perturbed input data instead of learning the\\ndata distribution directly. We experimentally show that SoftFlow can capture\\nthe innate structure of the manifold data and generate high-quality samples\\nunlike the conventional flow-based models. Furthermore, we apply the proposed\\nframework to 3D point clouds to alleviate the difficulty of forming thin\\nstructures for flow-based models. The proposed model for 3D point clouds,\\nnamely SoftPointFlow, can estimate the distribution of various shapes more\\naccurately and achieves state-of-the-art performance in point cloud generation.'\n",
            "label binarized: [0. 1. 1. 0. 0. 0. 0. 0. 0. 0. 0. 0. 0. 0. 0. 0. 0. 0. 0. 0. 0. 0. 0. 0.\n",
            " 0. 0. 0. 0. 0. 0. 0. 0. 0. 0. 0. 0. 0. 0. 0. 0. 0. 0. 0. 0. 0. 0. 0. 0.\n",
            " 0. 0. 0. 0. 0. 0. 0. 0. 0. 0. 0. 0. 0. 0. 0. 0. 0. 0. 0. 0. 0. 0. 0. 0.\n",
            " 0. 0. 0. 0. 0. 0. 0. 0. 0. 0. 0. 0. 0. 0. 0. 0. 0. 0. 0. 0. 0. 0. 0. 0.\n",
            " 0. 0. 0. 0. 0. 0. 0. 0. 0. 0. 0. 0. 0. 0. 0. 0. 0. 0. 0. 0. 0. 0. 0. 0.\n",
            " 0. 0. 0. 0. 0. 0. 0. 0. 0. 0. 0. 0. 0. 0. 0. 0. 0. 0. 0. 0. 0. 0. 0. 0.\n",
            " 0. 0. 0. 0. 0. 0. 0. 0. 0.]\n",
            "label: ['cs.CV' 'cs.LG']\n",
            "\n"
          ]
        }
      ]
    },
    {
      "cell_type": "markdown",
      "source": [
        "## Vectorization"
      ],
      "metadata": {
        "id": "M1rKDbGPcoo4"
      }
    },
    {
      "cell_type": "code",
      "source": [
        "vocabulary = set()\n",
        "train_df['summaries'].str.lower().str.split().apply(vocabulary.update)\n",
        "vocabulary_size = len(vocabulary)\n",
        "print(vocabulary_size)"
      ],
      "metadata": {
        "colab": {
          "base_uri": "https://localhost:8080/"
        },
        "id": "tEop6dM9dYRT",
        "outputId": "5de1cff5-691a-42da-fe13-7da9f644f526"
      },
      "execution_count": 27,
      "outputs": [
        {
          "output_type": "stream",
          "name": "stdout",
          "text": [
            "153251\n"
          ]
        }
      ]
    },
    {
      "cell_type": "code",
      "source": [
        "text_vectorizer_mlp = layers.TextVectorization(\n",
        "    max_tokens=vocabulary_size,\n",
        "    ngrams=2,\n",
        "    output_mode='tf_idf'\n",
        ")\n",
        "\n",
        "text_vectorizer_lstm = layers.TextVectorization(\n",
        "    max_tokens=vocabulary_size,\n",
        ")\n",
        "\n",
        "with tf.device(\"/CPU:0\"):\n",
        "  text_vectorizer_mlp.adapt(train_dataset.map(lambda text, label: text))\n",
        "  text_vectorizer_lstm.adapt(train_dataset.map(lambda text, label: text))"
      ],
      "metadata": {
        "id": "QaY_df9JduFk"
      },
      "execution_count": 28,
      "outputs": []
    },
    {
      "cell_type": "code",
      "source": [
        "# MLP\n",
        "train_dataset_mlp = train_dataset.map(\n",
        "    lambda text, label: (text_vectorizer_mlp(text), label), num_parallel_calls=auto\n",
        ").prefetch(auto)\n",
        "\n",
        "validation_dataset_mlp = validation_dataset.map(\n",
        "    lambda text, label: (text_vectorizer_mlp(text), label), num_parallel_calls=auto\n",
        ").prefetch(auto)\n",
        "\n",
        "test_dataset_mlp = test_dataset.map(\n",
        "    lambda text, label: (text_vectorizer_mlp(text), label), num_parallel_calls=auto\n",
        ").prefetch(auto)\n",
        "\n",
        "# LSTM\n",
        "train_dataset_lstm = train_dataset.map(\n",
        "    lambda text, label: (text_vectorizer_lstm(text), label), num_parallel_calls=auto\n",
        ").prefetch(auto)\n",
        "\n",
        "validation_dataset_lstm = validation_dataset.map(\n",
        "    lambda text, label: (text_vectorizer_lstm(text), label), num_parallel_calls=auto\n",
        ").prefetch(auto)\n",
        "\n",
        "test_dataset_lstm = test_dataset.map(\n",
        "    lambda text, label: (text_vectorizer_lstm(text), label), num_parallel_calls=auto\n",
        ").prefetch(auto)"
      ],
      "metadata": {
        "id": "ORyQcypRd-Kh"
      },
      "execution_count": 29,
      "outputs": []
    },
    {
      "cell_type": "markdown",
      "source": [
        "## Create a text classification model"
      ],
      "metadata": {
        "id": "XsFm_CTUfOnn"
      }
    },
    {
      "cell_type": "code",
      "source": [
        "def make_model(model_type='mlp'):\n",
        "  if model_type == 'mlp':\n",
        "    model = keras.Sequential([\n",
        "        layers.Dense(512, activation='relu'),\n",
        "        layers.Dense(256, activation='relu'),\n",
        "        layers.Dense(lookup.vocabulary_size(), activation='sigmoid')\n",
        "    ])\n",
        "  elif model_type == 'lstm':\n",
        "    model = keras.Sequential([\n",
        "        layers.Embedding(input_dim=len(text_vectorizer_lstm.get_vocabulary()), output_dim=64, mask_zero=True), # Use masking to handle the variable sequence lengths\n",
        "        layers.Bidirectional(layers.LSTM(64)),\n",
        "        keras.layers.Dense(64, activation='relu'),\n",
        "        layers.Dense(lookup.vocabulary_size(), activation='sigmoid')\n",
        "    ])\n",
        "  return model"
      ],
      "metadata": {
        "id": "mXAwGnpjf8sq"
      },
      "execution_count": 30,
      "outputs": []
    },
    {
      "cell_type": "markdown",
      "source": [
        "## Train the model"
      ],
      "metadata": {
        "id": "jvNVj2sAgbHM"
      }
    },
    {
      "cell_type": "code",
      "source": [
        "early_stopping = keras.callbacks.EarlyStopping(\n",
        "    patience=3,\n",
        "    monitor='val_loss',\n",
        "    min_delta=0.001,\n",
        "    mode='min',\n",
        "    verbose=1,\n",
        "    restore_best_weights=True,\n",
        ")"
      ],
      "metadata": {
        "id": "saedveUkNeVQ"
      },
      "execution_count": 31,
      "outputs": []
    },
    {
      "cell_type": "markdown",
      "source": [
        "## MLP"
      ],
      "metadata": {
        "id": "niK7cMX5n_17"
      }
    },
    {
      "cell_type": "code",
      "source": [
        "epochs = 20\n",
        "\n",
        "model = make_model('mlp')\n",
        "model.compile(\n",
        "    loss=\"binary_crossentropy\", optimizer=\"adam\", metrics=[\"categorical_accuracy\"]\n",
        ")\n",
        "\n",
        "history = model.fit(\n",
        "    train_dataset_mlp, validation_data=validation_dataset_mlp, epochs=epochs, callbacks=[early_stopping]\n",
        ")\n",
        "\n",
        "\n",
        "def plot_result(item):\n",
        "  plt.plot(history.history[item], label=item)\n",
        "  plt.plot(history.history[\"val_\" + item], label=\"val_\" + item)\n",
        "  plt.xlabel(\"Epochs\")\n",
        "  plt.ylabel(item)\n",
        "  plt.title(\"Train and Validation {} Over Epochs\".format(item), fontsize=14)\n",
        "  plt.legend()\n",
        "  plt.grid()\n",
        "  plt.show()\n",
        "\n",
        "plot_result(\"loss\")\n",
        "plot_result(\"categorical_accuracy\")"
      ],
      "metadata": {
        "colab": {
          "base_uri": "https://localhost:8080/",
          "height": 749
        },
        "id": "2GBoxVf1gOXm",
        "outputId": "0eccbd99-87f7-4951-f55f-49883515260d"
      },
      "execution_count": 32,
      "outputs": [
        {
          "output_type": "stream",
          "name": "stdout",
          "text": [
            "Epoch 1/20\n",
            "258/258 [==============================] - 16s 57ms/step - loss: 0.0323 - categorical_accuracy: 0.8543 - val_loss: 0.0182 - val_categorical_accuracy: 0.8887\n",
            "Epoch 2/20\n",
            "258/258 [==============================] - 13s 51ms/step - loss: 0.0031 - categorical_accuracy: 0.8946 - val_loss: 0.0245 - val_categorical_accuracy: 0.8822\n",
            "Epoch 3/20\n",
            "258/258 [==============================] - 14s 54ms/step - loss: 8.1897e-04 - categorical_accuracy: 0.8643 - val_loss: 0.0309 - val_categorical_accuracy: 0.8849\n",
            "Epoch 4/20\n",
            "258/258 [==============================] - ETA: 0s - loss: 4.3732e-04 - categorical_accuracy: 0.8520Restoring model weights from the end of the best epoch: 1.\n",
            "258/258 [==============================] - 13s 51ms/step - loss: 4.3732e-04 - categorical_accuracy: 0.8520 - val_loss: 0.0342 - val_categorical_accuracy: 0.8833\n",
            "Epoch 4: early stopping\n"
          ]
        },
        {
          "output_type": "display_data",
          "data": {
            "text/plain": [
              "<Figure size 432x288 with 1 Axes>"
            ],
            "image/png": "[encoded data removed]"
          },
          "metadata": {
            "needs_background": "light"
          }
        },
        {
          "output_type": "display_data",
          "data": {
            "text/plain": [
              "<Figure size 432x288 with 1 Axes>"
            ],
            "image/png": "[encoded data removed]"
          },
          "metadata": {
            "needs_background": "light"
          }
        }
      ]
    },
    {
      "cell_type": "code",
      "source": [
        "model.summary()"
      ],
      "metadata": {
        "colab": {
          "base_uri": "https://localhost:8080/"
        },
        "id": "0_K9XtVog4H6",
        "outputId": "d11087bf-fb71-4dc3-fbbe-fd62ce723fef"
      },
      "execution_count": 33,
      "outputs": [
        {
          "output_type": "stream",
          "name": "stdout",
          "text": [
            "Model: \"sequential\"\n",
            "_________________________________________________________________\n",
            " Layer (type)                Output Shape              Param #   \n",
            "=================================================================\n",
            " dense (Dense)               (None, 512)               78465024  \n",
            "                                                                 \n",
            " dense_1 (Dense)             (None, 256)               131328    \n",
            "                                                                 \n",
            " dense_2 (Dense)             (None, 153)               39321     \n",
            "                                                                 \n",
            "=================================================================\n",
            "Total params: 78,635,673\n",
            "Trainable params: 78,635,673\n",
            "Non-trainable params: 0\n",
            "_________________________________________________________________\n"
          ]
        }
      ]
    },
    {
      "cell_type": "markdown",
      "source": [
        "## Evaluate the model"
      ],
      "metadata": {
        "id": "Bb5HMuNVgTD7"
      }
    },
    {
      "cell_type": "code",
      "source": [
        "_, categorical_acc = model.evaluate(test_dataset_mlp)\n",
        "print(f\"Categorical accuracy on the test set: {round(categorical_acc * 100, 2)}%.\")"
      ],
      "metadata": {
        "colab": {
          "base_uri": "https://localhost:8080/"
        },
        "id": "NbnY3U1bg1tv",
        "outputId": "78a61b61-0938-470a-c299-ff64076797ae"
      },
      "execution_count": 35,
      "outputs": [
        {
          "output_type": "stream",
          "name": "stdout",
          "text": [
            "15/15 [==============================] - 2s 94ms/step - loss: 0.0192 - categorical_accuracy: 0.8816\n",
            "Categorical accuracy on the test set: 88.16%.\n"
          ]
        }
      ]
    },
    {
      "cell_type": "markdown",
      "source": [
        "## Inference"
      ],
      "metadata": {
        "id": "uxpZQW_thjJB"
      }
    },
    {
      "cell_type": "code",
      "source": [
        "# Create a model for inference.\n",
        "model_for_inference = keras.Sequential([text_vectorizer_mlp, model])\n",
        "\n",
        "# Create a small dataset just for demoing inference.\n",
        "inference_dataset = make_dataset(test_df.sample(100), is_train=False)\n",
        "text_batch, label_batch = next(iter(inference_dataset))\n",
        "predicted_probabilities = model_for_inference.predict(text_batch)\n",
        "\n",
        "# Perform inference.\n",
        "for i, text in enumerate(text_batch[:5]):\n",
        "    label = label_batch[i].numpy()[None, ...]\n",
        "    print(f\"Abstract: {text}\")\n",
        "    print(f\"Label(s): {invert_multi_hot(label[0])}\")\n",
        "    predicted_proba = [proba for proba in predicted_probabilities[i]]\n",
        "    top_3_labels = {}\n",
        "    for score, x in sorted(zip(predicted_probabilities[i], lookup.get_vocabulary()), key=lambda pair: pair[0], reverse=True)[:3]:\n",
        "      top_3_labels[x] = round(score, 3)\n",
        "    print(top_3_labels)\n",
        "    print(f\"Predicted Label(s): ({', '.join([label for label in top_3_labels])})\")\n",
        "    print(\" \")"
      ],
      "metadata": {
        "colab": {
          "base_uri": "https://localhost:8080/"
        },
        "id": "XMcVEgQyhkfU",
        "outputId": "714673f8-04e0-4f2f-e49d-8bbdffb750fa"
      },
      "execution_count": 36,
      "outputs": [
        {
          "output_type": "stream",
          "name": "stdout",
          "text": [
            "4/4 [==============================] - 0s 15ms/step\n",
            "Abstract: b'Semantic segmentation is one of the basic topics in computer vision, it aims\\nto assign semantic labels to every pixel of an image. Unbalanced semantic label\\ndistribution could have a negative influence on segmentation accuracy. In this\\npaper, we investigate using data augmentation approach to balance the semantic\\nlabel distribution in order to improve segmentation performance. We propose\\nusing generative adversarial networks (GANs) to generate realistic images for\\nimproving the performance of semantic segmentation networks. Experimental\\nresults show that the proposed method can not only improve segmentation\\nperformance on those classes with low accuracy, but also obtain 1.3% to 2.1%\\nincrease in average segmentation accuracy. It shows that this augmentation\\nmethod can boost accuracy and be easily applicable to any other segmentation\\nmodels.'\n",
            "Label(s): ['cs.CV']\n",
            "{'cs.CV': 0.996, 'eess.IV': 0.355, 'cs.LG': 0.232}\n",
            "Predicted Label(s): (cs.CV, eess.IV, cs.LG)\n",
            " \n",
            "Abstract: b'Human pose estimation is an essential yet challenging task in computer\\nvision. One of the reasons for this difficulty is that there are many redundant\\nregions in the images. In this work, we proposed a convolutional network\\narchitecture combined with the novel attention model. We named it attention\\nconvolutional neural network (ACNN). ACNN learns to focus on specific regions\\nof different input features. It\\'s a multi-stage architecture. Early stages\\nfiltrate the \"nothing-regions\", such as background and redundant body parts.\\nAnd then, they submit the important regions which contain the joints of the\\nhuman body to the following stages to get a more accurate result. What\\'s more,\\nit does not require extra manual annotations and self-learning is one of our\\nintentions. We separately trained the network because the attention learning\\ntask and the pose estimation task are not independent. State-of-the-art\\nperformance is obtained on the MPII benchmarks.'\n",
            "Label(s): ['cs.CV']\n",
            "{'cs.CV': 0.995, 'cs.LG': 0.197, 'eess.IV': 0.077}\n",
            "Predicted Label(s): (cs.CV, cs.LG, eess.IV)\n",
            " \n",
            "Abstract: b\"The Shapley value is one of the most widely used model-agnostic measures of\\nfeature importance in explainable AI: it has clear axiomatic foundations, is\\nguaranteed to uniquely exist, and has a clear interpretation as a feature's\\naverage effect on a model's prediction. We introduce joint Shapley values,\\nwhich directly extend the Shapley axioms. This preserves the classic Shapley\\nvalue's intuitions: joint Shapley values measure a set of features' average\\neffect on a model's prediction. We prove the uniqueness of joint Shapley\\nvalues, for any order of explanation. Results for games show that joint Shapley\\nvalues present different insights from existing interaction indices, which\\nassess the effect of a feature within a set of features. Deriving joint Shapley\\nvalues in ML attribution problems thus gives us the first measure of the joint\\neffect of sets of features on model predictions. In a dataset with binary\\nfeatures, we present a presence-adjusted method for calculating global values\\nthat retains the efficiency property.\"\n",
            "Label(s): ['cs.LG' 'stat.ML' 'cs.AI']\n",
            "{'cs.LG': 0.998, 'stat.ML': 0.871, 'cs.AI': 0.367}\n",
            "Predicted Label(s): (cs.LG, stat.ML, cs.AI)\n",
            " \n",
            "Abstract: b'Estimating depth from RGB images is a long-standing ill-posed problem, which\\nhas been explored for decades by the computer vision, graphics, and machine\\nlearning communities. Among the existing techniques, stereo matching remains\\none of the most widely used in the literature due to its strong connection to\\nthe human binocular system. Traditionally, stereo-based depth estimation has\\nbeen addressed through matching hand-crafted features across multiple images.\\nDespite the extensive amount of research, these traditional techniques still\\nsuffer in the presence of highly textured areas, large uniform regions, and\\nocclusions. Motivated by their growing success in solving various 2D and 3D\\nvision problems, deep learning for stereo-based depth estimation has attracted\\ngrowing interest from the community, with more than 150 papers published in\\nthis area between 2014 and 2019. This new generation of methods has\\ndemonstrated a significant leap in performance, enabling applications such as\\nautonomous driving and augmented reality. In this article, we provide a\\ncomprehensive survey of this new and continuously growing field of research,\\nsummarize the most commonly used pipelines, and discuss their benefits and\\nlimitations. In retrospect of what has been achieved so far, we also conjecture\\nwhat the future may hold for deep learning-based stereo for depth estimation\\nresearch.'\n",
            "Label(s): ['cs.CV' 'cs.GR']\n",
            "{'cs.CV': 0.984, 'cs.LG': 0.196, 'cs.AI': 0.127}\n",
            "Predicted Label(s): (cs.CV, cs.LG, cs.AI)\n",
            " \n",
            "Abstract: b'This paper presents a comprehensive survey of Federated Reinforcement\\nLearning (FRL), an emerging and promising field in Reinforcement Learning (RL).\\nStarting with a tutorial of Federated Learning (FL) and RL, we then focus on\\nthe introduction of FRL as a new method with great potential by leveraging the\\nbasic idea of FL to improve the performance of RL while preserving\\ndata-privacy. According to the distribution characteristics of the agents in\\nthe framework, FRL algorithms can be divided into two categories, i.e.\\nHorizontal Federated Reinforcement Learning (HFRL) and Vertical Federated\\nReinforcement Learning (VFRL). We provide the detailed definitions of each\\ncategory by formulas, investigate the evolution of FRL from a technical\\nperspective, and highlight its advantages over previous RL algorithms. In\\naddition, the existing works on FRL are summarized by application fields,\\nincluding edge computing, communication, control optimization, and attack\\ndetection. Finally, we describe and discuss several key research directions\\nthat are crucial to solving the open problems within FRL.'\n",
            "Label(s): ['cs.LG' 'cs.AI']\n",
            "{'cs.LG': 0.982, 'cs.AI': 0.632, 'stat.ML': 0.173}\n",
            "Predicted Label(s): (cs.LG, cs.AI, stat.ML)\n",
            " \n"
          ]
        }
      ]
    },
    {
      "cell_type": "markdown",
      "source": [
        "## LSTM"
      ],
      "metadata": {
        "id": "bbpOp9aWoG5A"
      }
    },
    {
      "cell_type": "code",
      "source": [
        "epochs = 20\n",
        "\n",
        "model = make_model('lstm')\n",
        "model.compile(\n",
        "    loss=\"binary_crossentropy\", optimizer=\"adam\", metrics=[\"categorical_accuracy\"]\n",
        ")\n",
        "\n",
        "history = model.fit(\n",
        "    train_dataset_lstm, validation_data=validation_dataset_lstm, epochs=epochs, callbacks=[early_stopping]\n",
        ")\n",
        "\n",
        "\n",
        "def plot_result(item):\n",
        "  plt.plot(history.history[item], label=item)\n",
        "  plt.plot(history.history[\"val_\" + item], label=\"val_\" + item)\n",
        "  plt.xlabel(\"Epochs\")\n",
        "  plt.ylabel(item)\n",
        "  plt.title(\"Train and Validation {} Over Epochs\".format(item), fontsize=14)\n",
        "  plt.legend()\n",
        "  plt.grid()\n",
        "  plt.show()\n",
        "\n",
        "plot_result(\"loss\")\n",
        "plot_result(\"categorical_accuracy\")"
      ],
      "metadata": {
        "colab": {
          "base_uri": "https://localhost:8080/",
          "height": 922
        },
        "id": "wPDRWMSioG7t",
        "outputId": "c4552497-945c-4cfa-f4a6-6a53f81c7b1f"
      },
      "execution_count": 37,
      "outputs": [
        {
          "output_type": "stream",
          "name": "stdout",
          "text": [
            "Epoch 1/20\n",
            "258/258 [==============================] - 21s 52ms/step - loss: 0.0794 - categorical_accuracy: 0.4528 - val_loss: 0.0271 - val_categorical_accuracy: 0.4113\n",
            "Epoch 2/20\n",
            "258/258 [==============================] - 11s 42ms/step - loss: 0.0276 - categorical_accuracy: 0.5263 - val_loss: 0.0270 - val_categorical_accuracy: 0.4113\n",
            "Epoch 3/20\n",
            "258/258 [==============================] - 12s 48ms/step - loss: 0.0267 - categorical_accuracy: 0.6491 - val_loss: 0.0236 - val_categorical_accuracy: 0.8101\n",
            "Epoch 4/20\n",
            "258/258 [==============================] - 11s 42ms/step - loss: 0.0253 - categorical_accuracy: 0.7280 - val_loss: 0.0241 - val_categorical_accuracy: 0.7349\n",
            "Epoch 5/20\n",
            "258/258 [==============================] - 11s 44ms/step - loss: 0.0227 - categorical_accuracy: 0.8240 - val_loss: 0.0210 - val_categorical_accuracy: 0.8489\n",
            "Epoch 6/20\n",
            "258/258 [==============================] - 11s 42ms/step - loss: 0.0200 - categorical_accuracy: 0.9122 - val_loss: 0.0197 - val_categorical_accuracy: 0.9111\n",
            "Epoch 7/20\n",
            "258/258 [==============================] - 11s 43ms/step - loss: 0.0192 - categorical_accuracy: 0.9312 - val_loss: 0.0195 - val_categorical_accuracy: 0.9160\n",
            "Epoch 8/20\n",
            "258/258 [==============================] - 11s 42ms/step - loss: 0.0186 - categorical_accuracy: 0.9394 - val_loss: 0.0197 - val_categorical_accuracy: 0.9013\n",
            "Epoch 9/20\n",
            "258/258 [==============================] - ETA: 0s - loss: 0.0180 - categorical_accuracy: 0.9453Restoring model weights from the end of the best epoch: 6.\n",
            "258/258 [==============================] - 11s 42ms/step - loss: 0.0180 - categorical_accuracy: 0.9453 - val_loss: 0.0198 - val_categorical_accuracy: 0.9045\n",
            "Epoch 9: early stopping\n"
          ]
        },
        {
          "output_type": "display_data",
          "data": {
            "text/plain": [
              "<Figure size 432x288 with 1 Axes>"
            ],
            "image/png": "[encoded data removed]"
          },
          "metadata": {
            "needs_background": "light"
          }
        },
        {
          "output_type": "display_data",
          "data": {
            "text/plain": [
              "<Figure size 432x288 with 1 Axes>"
            ],
            "image/png": "[encoded data removed]"
          },
          "metadata": {
            "needs_background": "light"
          }
        }
      ]
    },
    {
      "cell_type": "code",
      "source": [
        "model.summary()"
      ],
      "metadata": {
        "colab": {
          "base_uri": "https://localhost:8080/"
        },
        "id": "_eU6NmS1oG9u",
        "outputId": "d8674fc6-609f-4f78-f163-6a675ca4bf56"
      },
      "execution_count": 38,
      "outputs": [
        {
          "output_type": "stream",
          "name": "stdout",
          "text": [
            "Model: \"sequential_2\"\n",
            "_________________________________________________________________\n",
            " Layer (type)                Output Shape              Param #   \n",
            "=================================================================\n",
            " embedding (Embedding)       (None, None, 64)          5584448   \n",
            "                                                                 \n",
            " bidirectional (Bidirectiona  (None, 128)              66048     \n",
            " l)                                                              \n",
            "                                                                 \n",
            " dense_3 (Dense)             (None, 64)                8256      \n",
            "                                                                 \n",
            " dense_4 (Dense)             (None, 153)               9945      \n",
            "                                                                 \n",
            "=================================================================\n",
            "Total params: 5,668,697\n",
            "Trainable params: 5,668,697\n",
            "Non-trainable params: 0\n",
            "_________________________________________________________________\n"
          ]
        }
      ]
    },
    {
      "cell_type": "markdown",
      "source": [
        "## Evaluate the model"
      ],
      "metadata": {
        "id": "hHNqnm8-oG_2"
      }
    },
    {
      "cell_type": "code",
      "source": [
        "_, categorical_acc = model.evaluate(test_dataset_lstm)\n",
        "print(f\"Categorical accuracy on the test set: {round(categorical_acc * 100, 2)}%.\")"
      ],
      "metadata": {
        "colab": {
          "base_uri": "https://localhost:8080/"
        },
        "id": "zElgr4RGoHCC",
        "outputId": "647d6a0a-e073-4343-b77f-f3de47ac41a0"
      },
      "execution_count": 40,
      "outputs": [
        {
          "output_type": "stream",
          "name": "stdout",
          "text": [
            "15/15 [==============================] - 1s 38ms/step - loss: 0.0201 - categorical_accuracy: 0.9040\n",
            "Categorical accuracy on the test set: 90.4%.\n"
          ]
        }
      ]
    },
    {
      "cell_type": "markdown",
      "source": [
        "## Inference"
      ],
      "metadata": {
        "id": "gfw-BYnloHEi"
      }
    },
    {
      "cell_type": "code",
      "source": [
        "# Create a model for inference.\n",
        "model_for_inference = keras.Sequential([text_vectorizer_lstm, model])\n",
        "predicted_probabilities = model_for_inference.predict(text_batch)\n",
        "\n",
        "# Perform inference.\n",
        "for i, text in enumerate(text_batch[:5]):\n",
        "    label = label_batch[i].numpy()[None, ...]\n",
        "    print(f\"Abstract: {text}\")\n",
        "    print(f\"Label(s): {invert_multi_hot(label[0])}\")\n",
        "    predicted_proba = [proba for proba in predicted_probabilities[i]]\n",
        "    top_3_labels = {}\n",
        "    for score, x in sorted(zip(predicted_probabilities[i], lookup.get_vocabulary()), key=lambda pair: pair[0], reverse=True)[:3]:\n",
        "      top_3_labels[x] = round(score, 3)\n",
        "    print(top_3_labels)\n",
        "    print(f\"Predicted Label(s): ({', '.join([label for label in top_3_labels])})\")\n",
        "    print(\" \")"
      ],
      "metadata": {
        "colab": {
          "base_uri": "https://localhost:8080/"
        },
        "id": "a8s1WdxqoHGm",
        "outputId": "5f13c577-ddf7-4027-c790-1b07aefafb74"
      },
      "execution_count": 42,
      "outputs": [
        {
          "output_type": "stream",
          "name": "stdout",
          "text": [
            "4/4 [==============================] - 3s 15ms/step\n",
            "Abstract: b'Semantic segmentation is one of the basic topics in computer vision, it aims\\nto assign semantic labels to every pixel of an image. Unbalanced semantic label\\ndistribution could have a negative influence on segmentation accuracy. In this\\npaper, we investigate using data augmentation approach to balance the semantic\\nlabel distribution in order to improve segmentation performance. We propose\\nusing generative adversarial networks (GANs) to generate realistic images for\\nimproving the performance of semantic segmentation networks. Experimental\\nresults show that the proposed method can not only improve segmentation\\nperformance on those classes with low accuracy, but also obtain 1.3% to 2.1%\\nincrease in average segmentation accuracy. It shows that this augmentation\\nmethod can boost accuracy and be easily applicable to any other segmentation\\nmodels.'\n",
            "Label(s): ['cs.CV']\n",
            "{'cs.CV': 0.998, 'eess.IV': 0.069, 'cs.LG': 0.067}\n",
            "Predicted Label(s): (cs.CV, eess.IV, cs.LG)\n",
            " \n",
            "Abstract: b'Human pose estimation is an essential yet challenging task in computer\\nvision. One of the reasons for this difficulty is that there are many redundant\\nregions in the images. In this work, we proposed a convolutional network\\narchitecture combined with the novel attention model. We named it attention\\nconvolutional neural network (ACNN). ACNN learns to focus on specific regions\\nof different input features. It\\'s a multi-stage architecture. Early stages\\nfiltrate the \"nothing-regions\", such as background and redundant body parts.\\nAnd then, they submit the important regions which contain the joints of the\\nhuman body to the following stages to get a more accurate result. What\\'s more,\\nit does not require extra manual annotations and self-learning is one of our\\nintentions. We separately trained the network because the attention learning\\ntask and the pose estimation task are not independent. State-of-the-art\\nperformance is obtained on the MPII benchmarks.'\n",
            "Label(s): ['cs.CV']\n",
            "{'cs.CV': 0.997, 'cs.LG': 0.088, 'eess.IV': 0.065}\n",
            "Predicted Label(s): (cs.CV, cs.LG, eess.IV)\n",
            " \n",
            "Abstract: b\"The Shapley value is one of the most widely used model-agnostic measures of\\nfeature importance in explainable AI: it has clear axiomatic foundations, is\\nguaranteed to uniquely exist, and has a clear interpretation as a feature's\\naverage effect on a model's prediction. We introduce joint Shapley values,\\nwhich directly extend the Shapley axioms. This preserves the classic Shapley\\nvalue's intuitions: joint Shapley values measure a set of features' average\\neffect on a model's prediction. We prove the uniqueness of joint Shapley\\nvalues, for any order of explanation. Results for games show that joint Shapley\\nvalues present different insights from existing interaction indices, which\\nassess the effect of a feature within a set of features. Deriving joint Shapley\\nvalues in ML attribution problems thus gives us the first measure of the joint\\neffect of sets of features on model predictions. In a dataset with binary\\nfeatures, we present a presence-adjusted method for calculating global values\\nthat retains the efficiency property.\"\n",
            "Label(s): ['cs.LG' 'stat.ML' 'cs.AI']\n",
            "{'cs.LG': 0.985, 'stat.ML': 0.688, 'cs.AI': 0.291}\n",
            "Predicted Label(s): (cs.LG, stat.ML, cs.AI)\n",
            " \n",
            "Abstract: b'Estimating depth from RGB images is a long-standing ill-posed problem, which\\nhas been explored for decades by the computer vision, graphics, and machine\\nlearning communities. Among the existing techniques, stereo matching remains\\none of the most widely used in the literature due to its strong connection to\\nthe human binocular system. Traditionally, stereo-based depth estimation has\\nbeen addressed through matching hand-crafted features across multiple images.\\nDespite the extensive amount of research, these traditional techniques still\\nsuffer in the presence of highly textured areas, large uniform regions, and\\nocclusions. Motivated by their growing success in solving various 2D and 3D\\nvision problems, deep learning for stereo-based depth estimation has attracted\\ngrowing interest from the community, with more than 150 papers published in\\nthis area between 2014 and 2019. This new generation of methods has\\ndemonstrated a significant leap in performance, enabling applications such as\\nautonomous driving and augmented reality. In this article, we provide a\\ncomprehensive survey of this new and continuously growing field of research,\\nsummarize the most commonly used pipelines, and discuss their benefits and\\nlimitations. In retrospect of what has been achieved so far, we also conjecture\\nwhat the future may hold for deep learning-based stereo for depth estimation\\nresearch.'\n",
            "Label(s): ['cs.CV' 'cs.GR']\n",
            "{'cs.CV': 0.995, 'cs.LG': 0.126, 'eess.IV': 0.068}\n",
            "Predicted Label(s): (cs.CV, cs.LG, eess.IV)\n",
            " \n",
            "Abstract: b'This paper presents a comprehensive survey of Federated Reinforcement\\nLearning (FRL), an emerging and promising field in Reinforcement Learning (RL).\\nStarting with a tutorial of Federated Learning (FL) and RL, we then focus on\\nthe introduction of FRL as a new method with great potential by leveraging the\\nbasic idea of FL to improve the performance of RL while preserving\\ndata-privacy. According to the distribution characteristics of the agents in\\nthe framework, FRL algorithms can be divided into two categories, i.e.\\nHorizontal Federated Reinforcement Learning (HFRL) and Vertical Federated\\nReinforcement Learning (VFRL). We provide the detailed definitions of each\\ncategory by formulas, investigate the evolution of FRL from a technical\\nperspective, and highlight its advantages over previous RL algorithms. In\\naddition, the existing works on FRL are summarized by application fields,\\nincluding edge computing, communication, control optimization, and attack\\ndetection. Finally, we describe and discuss several key research directions\\nthat are crucial to solving the open problems within FRL.'\n",
            "Label(s): ['cs.LG' 'cs.AI']\n",
            "{'cs.LG': 0.944, 'stat.ML': 0.462, 'cs.AI': 0.204}\n",
            "Predicted Label(s): (cs.LG, stat.ML, cs.AI)\n",
            " \n"
          ]
        }
      ]
    }
  ]
}