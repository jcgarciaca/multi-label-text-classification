{
  "nbformat": 4,
  "nbformat_minor": 0,
  "metadata": {
    "colab": {
      "provenance": []
    },
    "kernelspec": {
      "name": "python3",
      "display_name": "Python 3"
    },
    "language_info": {
      "name": "python"
    }
  },
  "cells": [
    {
      "cell_type": "markdown",
      "source": [
        "## Import libraries"
      ],
      "metadata": {
        "id": "NyBZgTQ-9u-T"
      }
    },
    {
      "cell_type": "code",
      "source": [
        "import os\n",
        "import numpy as np\n",
        "import pandas as pd\n",
        "import tensorflow as tf\n",
        "from tensorflow import keras\n",
        "from tensorflow.keras import layers\n",
        "from tensorflow.keras.preprocessing import sequence\n",
        "from tensorflow.keras.preprocessing.text import Tokenizer\n",
        "from tensorflow.keras.preprocessing.sequence import pad_sequences\n",
        "\n",
        "from sklearn.model_selection import train_test_split\n",
        "import matplotlib.pyplot as plt\n",
        "from ast import literal_eval"
      ],
      "metadata": {
        "id": "rvzuhIYH9y3C"
      },
      "execution_count": null,
      "outputs": []
    },
    {
      "cell_type": "markdown",
      "source": [
        "## Perform EDA"
      ],
      "metadata": {
        "id": "bN_77mW4-F4k"
      }
    },
    {
      "cell_type": "code",
      "source": [
        "arxiv_data = pd.read_csv(\n",
        "    'https://github.com/soumik12345/multi-label-text-classification/releases/download/v0.2/arxiv_data.csv'\n",
        ")\n",
        "arxiv_data.head()"
      ],
      "metadata": {
        "colab": {
          "base_uri": "https://localhost:8080/",
          "height": 206
        },
        "id": "r9d91cBY-HqI",
        "outputId": "64ce1603-c0bf-43f7-e26f-909a37de6d94"
      },
      "execution_count": null,
      "outputs": [
        {
          "output_type": "execute_result",
          "data": {
            "text/plain": [
              "                                              titles  \\\n",
              "0  Survey on Semantic Stereo Matching / Semantic ...   \n",
              "1  FUTURE-AI: Guiding Principles and Consensus Re...   \n",
              "2  Enforcing Mutual Consistency of Hard Regions f...   \n",
              "3  Parameter Decoupling Strategy for Semi-supervi...   \n",
              "4  Background-Foreground Segmentation for Interio...   \n",
              "\n",
              "                                           summaries  \\\n",
              "0  Stereo matching is one of the widely used tech...   \n",
              "1  The recent advancements in artificial intellig...   \n",
              "2  In this paper, we proposed a novel mutual cons...   \n",
              "3  Consistency training has proven to be an advan...   \n",
              "4  To ensure safety in automated driving, the cor...   \n",
              "\n",
              "                         terms  \n",
              "0           ['cs.CV', 'cs.LG']  \n",
              "1  ['cs.CV', 'cs.AI', 'cs.LG']  \n",
              "2           ['cs.CV', 'cs.AI']  \n",
              "3                    ['cs.CV']  \n",
              "4           ['cs.CV', 'cs.LG']  "
            ],
            "text/html": [
              "\n",
              "  <div id=\"df-da28b8a2-0ce7-47bc-a58c-bd252405509d\">\n",
              "    <div class=\"colab-df-container\">\n",
              "      <div>\n",
              "<style scoped>\n",
              "    .dataframe tbody tr th:only-of-type {\n",
              "        vertical-align: middle;\n",
              "    }\n",
              "\n",
              "    .dataframe tbody tr th {\n",
              "        vertical-align: top;\n",
              "    }\n",
              "\n",
              "    .dataframe thead th {\n",
              "        text-align: right;\n",
              "    }\n",
              "</style>\n",
              "<table border=\"1\" class=\"dataframe\">\n",
              "  <thead>\n",
              "    <tr style=\"text-align: right;\">\n",
              "      <th></th>\n",
              "      <th>titles</th>\n",
              "      <th>summaries</th>\n",
              "      <th>terms</th>\n",
              "    </tr>\n",
              "  </thead>\n",
              "  <tbody>\n",
              "    <tr>\n",
              "      <th>0</th>\n",
              "      <td>Survey on Semantic Stereo Matching / Semantic ...</td>\n",
              "      <td>Stereo matching is one of the widely used tech...</td>\n",
              "      <td>['cs.CV', 'cs.LG']</td>\n",
              "    </tr>\n",
              "    <tr>\n",
              "      <th>1</th>\n",
              "      <td>FUTURE-AI: Guiding Principles and Consensus Re...</td>\n",
              "      <td>The recent advancements in artificial intellig...</td>\n",
              "      <td>['cs.CV', 'cs.AI', 'cs.LG']</td>\n",
              "    </tr>\n",
              "    <tr>\n",
              "      <th>2</th>\n",
              "      <td>Enforcing Mutual Consistency of Hard Regions f...</td>\n",
              "      <td>In this paper, we proposed a novel mutual cons...</td>\n",
              "      <td>['cs.CV', 'cs.AI']</td>\n",
              "    </tr>\n",
              "    <tr>\n",
              "      <th>3</th>\n",
              "      <td>Parameter Decoupling Strategy for Semi-supervi...</td>\n",
              "      <td>Consistency training has proven to be an advan...</td>\n",
              "      <td>['cs.CV']</td>\n",
              "    </tr>\n",
              "    <tr>\n",
              "      <th>4</th>\n",
              "      <td>Background-Foreground Segmentation for Interio...</td>\n",
              "      <td>To ensure safety in automated driving, the cor...</td>\n",
              "      <td>['cs.CV', 'cs.LG']</td>\n",
              "    </tr>\n",
              "  </tbody>\n",
              "</table>\n",
              "</div>\n",
              "      <button class=\"colab-df-convert\" onclick=\"convertToInteractive('df-da28b8a2-0ce7-47bc-a58c-bd252405509d')\"\n",
              "              title=\"Convert this dataframe to an interactive table.\"\n",
              "              style=\"display:none;\">\n",
              "        \n",
              "  <svg xmlns=\"http://www.w3.org/2000/svg\" height=\"24px\"viewBox=\"0 0 24 24\"\n",
              "       width=\"24px\">\n",
              "    <path d=\"M0 0h24v24H0V0z\" fill=\"none\"/>\n",
              "    <path d=\"M18.56 5.44l.94 2.06.94-2.06 2.06-.94-2.06-.94-.94-2.06-.94 2.06-2.06.94zm-11 1L8.5 8.5l.94-2.06 2.06-.94-2.06-.94L8.5 2.5l-.94 2.06-2.06.94zm10 10l.94 2.06.94-2.06 2.06-.94-2.06-.94-.94-2.06-.94 2.06-2.06.94z\"/><path d=\"M17.41 7.96l-1.37-1.37c-.4-.4-.92-.59-1.43-.59-.52 0-1.04.2-1.43.59L10.3 9.45l-7.72 7.72c-.78.78-.78 2.05 0 2.83L4 21.41c.39.39.9.59 1.41.59.51 0 1.02-.2 1.41-.59l7.78-7.78 2.81-2.81c.8-.78.8-2.07 0-2.86zM5.41 20L4 18.59l7.72-7.72 1.47 1.35L5.41 20z\"/>\n",
              "  </svg>\n",
              "      </button>\n",
              "      \n",
              "  <style>\n",
              "    .colab-df-container {\n",
              "      display:flex;\n",
              "      flex-wrap:wrap;\n",
              "      gap: 12px;\n",
              "    }\n",
              "\n",
              "    .colab-df-convert {\n",
              "      background-color: #E8F0FE;\n",
              "      border: none;\n",
              "      border-radius: 50%;\n",
              "      cursor: pointer;\n",
              "      display: none;\n",
              "      fill: #1967D2;\n",
              "      height: 32px;\n",
              "      padding: 0 0 0 0;\n",
              "      width: 32px;\n",
              "    }\n",
              "\n",
              "    .colab-df-convert:hover {\n",
              "      background-color: #E2EBFA;\n",
              "      box-shadow: 0px 1px 2px rgba(60, 64, 67, 0.3), 0px 1px 3px 1px rgba(60, 64, 67, 0.15);\n",
              "      fill: #174EA6;\n",
              "    }\n",
              "\n",
              "    [theme=dark] .colab-df-convert {\n",
              "      background-color: #3B4455;\n",
              "      fill: #D2E3FC;\n",
              "    }\n",
              "\n",
              "    [theme=dark] .colab-df-convert:hover {\n",
              "      background-color: #434B5C;\n",
              "      box-shadow: 0px 1px 3px 1px rgba(0, 0, 0, 0.15);\n",
              "      filter: drop-shadow(0px 1px 2px rgba(0, 0, 0, 0.3));\n",
              "      fill: #FFFFFF;\n",
              "    }\n",
              "  </style>\n",
              "\n",
              "      <script>\n",
              "        const buttonEl =\n",
              "          document.querySelector('#df-da28b8a2-0ce7-47bc-a58c-bd252405509d button.colab-df-convert');\n",
              "        buttonEl.style.display =\n",
              "          google.colab.kernel.accessAllowed ? 'block' : 'none';\n",
              "\n",
              "        async function convertToInteractive(key) {\n",
              "          const element = document.querySelector('#df-da28b8a2-0ce7-47bc-a58c-bd252405509d');\n",
              "          const dataTable =\n",
              "            await google.colab.kernel.invokeFunction('convertToInteractive',\n",
              "                                                     [key], {});\n",
              "          if (!dataTable) return;\n",
              "\n",
              "          const docLinkHtml = 'Like what you see? Visit the ' +\n",
              "            '<a target=\"_blank\" href=https://colab.research.google.com/notebooks/data_table.ipynb>data table notebook</a>'\n",
              "            + ' to learn more about interactive tables.';\n",
              "          element.innerHTML = '';\n",
              "          dataTable['output_type'] = 'display_data';\n",
              "          await google.colab.output.renderOutput(dataTable, element);\n",
              "          const docLink = document.createElement('div');\n",
              "          docLink.innerHTML = docLinkHtml;\n",
              "          element.appendChild(docLink);\n",
              "        }\n",
              "      </script>\n",
              "    </div>\n",
              "  </div>\n",
              "  "
            ]
          },
          "metadata": {},
          "execution_count": 2
        }
      ]
    },
    {
      "cell_type": "code",
      "source": [
        "print('There are {} registers in the dataset'.format(len(arxiv_data)))"
      ],
      "metadata": {
        "colab": {
          "base_uri": "https://localhost:8080/"
        },
        "id": "5pShq8Qe-J5y",
        "outputId": "0ce97758-7e0b-4d5d-c855-4d777b8e05e0"
      },
      "execution_count": null,
      "outputs": [
        {
          "output_type": "stream",
          "name": "stdout",
          "text": [
            "There are 51774 registers in the dataset\n"
          ]
        }
      ]
    },
    {
      "cell_type": "code",
      "source": [
        "total_duplicate_titles = sum(arxiv_data[\"titles\"].duplicated())\n",
        "print('There are {} duplicated titles'.format(total_duplicate_titles))"
      ],
      "metadata": {
        "colab": {
          "base_uri": "https://localhost:8080/"
        },
        "id": "Va-KKLcJ-K5o",
        "outputId": "4c415fb2-0771-4887-c4ef-507fcb7b7a3c"
      },
      "execution_count": null,
      "outputs": [
        {
          "output_type": "stream",
          "name": "stdout",
          "text": [
            "There are 12802 duplicated titles\n"
          ]
        }
      ]
    },
    {
      "cell_type": "code",
      "source": [
        "arxiv_data.head()"
      ],
      "metadata": {
        "colab": {
          "base_uri": "https://localhost:8080/",
          "height": 206
        },
        "id": "kYZXGX0U-MWo",
        "outputId": "bfdd53ca-0076-4444-803a-8cdbf5cde92f"
      },
      "execution_count": null,
      "outputs": [
        {
          "output_type": "execute_result",
          "data": {
            "text/plain": [
              "                                              titles  \\\n",
              "0  Survey on Semantic Stereo Matching / Semantic ...   \n",
              "1  FUTURE-AI: Guiding Principles and Consensus Re...   \n",
              "2  Enforcing Mutual Consistency of Hard Regions f...   \n",
              "3  Parameter Decoupling Strategy for Semi-supervi...   \n",
              "4  Background-Foreground Segmentation for Interio...   \n",
              "\n",
              "                                           summaries  \\\n",
              "0  Stereo matching is one of the widely used tech...   \n",
              "1  The recent advancements in artificial intellig...   \n",
              "2  In this paper, we proposed a novel mutual cons...   \n",
              "3  Consistency training has proven to be an advan...   \n",
              "4  To ensure safety in automated driving, the cor...   \n",
              "\n",
              "                         terms  \n",
              "0           ['cs.CV', 'cs.LG']  \n",
              "1  ['cs.CV', 'cs.AI', 'cs.LG']  \n",
              "2           ['cs.CV', 'cs.AI']  \n",
              "3                    ['cs.CV']  \n",
              "4           ['cs.CV', 'cs.LG']  "
            ],
            "text/html": [
              "\n",
              "  <div id=\"df-fc470c4e-472e-4a55-94d7-78403992ae0b\">\n",
              "    <div class=\"colab-df-container\">\n",
              "      <div>\n",
              "<style scoped>\n",
              "    .dataframe tbody tr th:only-of-type {\n",
              "        vertical-align: middle;\n",
              "    }\n",
              "\n",
              "    .dataframe tbody tr th {\n",
              "        vertical-align: top;\n",
              "    }\n",
              "\n",
              "    .dataframe thead th {\n",
              "        text-align: right;\n",
              "    }\n",
              "</style>\n",
              "<table border=\"1\" class=\"dataframe\">\n",
              "  <thead>\n",
              "    <tr style=\"text-align: right;\">\n",
              "      <th></th>\n",
              "      <th>titles</th>\n",
              "      <th>summaries</th>\n",
              "      <th>terms</th>\n",
              "    </tr>\n",
              "  </thead>\n",
              "  <tbody>\n",
              "    <tr>\n",
              "      <th>0</th>\n",
              "      <td>Survey on Semantic Stereo Matching / Semantic ...</td>\n",
              "      <td>Stereo matching is one of the widely used tech...</td>\n",
              "      <td>['cs.CV', 'cs.LG']</td>\n",
              "    </tr>\n",
              "    <tr>\n",
              "      <th>1</th>\n",
              "      <td>FUTURE-AI: Guiding Principles and Consensus Re...</td>\n",
              "      <td>The recent advancements in artificial intellig...</td>\n",
              "      <td>['cs.CV', 'cs.AI', 'cs.LG']</td>\n",
              "    </tr>\n",
              "    <tr>\n",
              "      <th>2</th>\n",
              "      <td>Enforcing Mutual Consistency of Hard Regions f...</td>\n",
              "      <td>In this paper, we proposed a novel mutual cons...</td>\n",
              "      <td>['cs.CV', 'cs.AI']</td>\n",
              "    </tr>\n",
              "    <tr>\n",
              "      <th>3</th>\n",
              "      <td>Parameter Decoupling Strategy for Semi-supervi...</td>\n",
              "      <td>Consistency training has proven to be an advan...</td>\n",
              "      <td>['cs.CV']</td>\n",
              "    </tr>\n",
              "    <tr>\n",
              "      <th>4</th>\n",
              "      <td>Background-Foreground Segmentation for Interio...</td>\n",
              "      <td>To ensure safety in automated driving, the cor...</td>\n",
              "      <td>['cs.CV', 'cs.LG']</td>\n",
              "    </tr>\n",
              "  </tbody>\n",
              "</table>\n",
              "</div>\n",
              "      <button class=\"colab-df-convert\" onclick=\"convertToInteractive('df-fc470c4e-472e-4a55-94d7-78403992ae0b')\"\n",
              "              title=\"Convert this dataframe to an interactive table.\"\n",
              "              style=\"display:none;\">\n",
              "        \n",
              "  <svg xmlns=\"http://www.w3.org/2000/svg\" height=\"24px\"viewBox=\"0 0 24 24\"\n",
              "       width=\"24px\">\n",
              "    <path d=\"M0 0h24v24H0V0z\" fill=\"none\"/>\n",
              "    <path d=\"M18.56 5.44l.94 2.06.94-2.06 2.06-.94-2.06-.94-.94-2.06-.94 2.06-2.06.94zm-11 1L8.5 8.5l.94-2.06 2.06-.94-2.06-.94L8.5 2.5l-.94 2.06-2.06.94zm10 10l.94 2.06.94-2.06 2.06-.94-2.06-.94-.94-2.06-.94 2.06-2.06.94z\"/><path d=\"M17.41 7.96l-1.37-1.37c-.4-.4-.92-.59-1.43-.59-.52 0-1.04.2-1.43.59L10.3 9.45l-7.72 7.72c-.78.78-.78 2.05 0 2.83L4 21.41c.39.39.9.59 1.41.59.51 0 1.02-.2 1.41-.59l7.78-7.78 2.81-2.81c.8-.78.8-2.07 0-2.86zM5.41 20L4 18.59l7.72-7.72 1.47 1.35L5.41 20z\"/>\n",
              "  </svg>\n",
              "      </button>\n",
              "      \n",
              "  <style>\n",
              "    .colab-df-container {\n",
              "      display:flex;\n",
              "      flex-wrap:wrap;\n",
              "      gap: 12px;\n",
              "    }\n",
              "\n",
              "    .colab-df-convert {\n",
              "      background-color: #E8F0FE;\n",
              "      border: none;\n",
              "      border-radius: 50%;\n",
              "      cursor: pointer;\n",
              "      display: none;\n",
              "      fill: #1967D2;\n",
              "      height: 32px;\n",
              "      padding: 0 0 0 0;\n",
              "      width: 32px;\n",
              "    }\n",
              "\n",
              "    .colab-df-convert:hover {\n",
              "      background-color: #E2EBFA;\n",
              "      box-shadow: 0px 1px 2px rgba(60, 64, 67, 0.3), 0px 1px 3px 1px rgba(60, 64, 67, 0.15);\n",
              "      fill: #174EA6;\n",
              "    }\n",
              "\n",
              "    [theme=dark] .colab-df-convert {\n",
              "      background-color: #3B4455;\n",
              "      fill: #D2E3FC;\n",
              "    }\n",
              "\n",
              "    [theme=dark] .colab-df-convert:hover {\n",
              "      background-color: #434B5C;\n",
              "      box-shadow: 0px 1px 3px 1px rgba(0, 0, 0, 0.15);\n",
              "      filter: drop-shadow(0px 1px 2px rgba(0, 0, 0, 0.3));\n",
              "      fill: #FFFFFF;\n",
              "    }\n",
              "  </style>\n",
              "\n",
              "      <script>\n",
              "        const buttonEl =\n",
              "          document.querySelector('#df-fc470c4e-472e-4a55-94d7-78403992ae0b button.colab-df-convert');\n",
              "        buttonEl.style.display =\n",
              "          google.colab.kernel.accessAllowed ? 'block' : 'none';\n",
              "\n",
              "        async function convertToInteractive(key) {\n",
              "          const element = document.querySelector('#df-fc470c4e-472e-4a55-94d7-78403992ae0b');\n",
              "          const dataTable =\n",
              "            await google.colab.kernel.invokeFunction('convertToInteractive',\n",
              "                                                     [key], {});\n",
              "          if (!dataTable) return;\n",
              "\n",
              "          const docLinkHtml = 'Like what you see? Visit the ' +\n",
              "            '<a target=\"_blank\" href=https://colab.research.google.com/notebooks/data_table.ipynb>data table notebook</a>'\n",
              "            + ' to learn more about interactive tables.';\n",
              "          element.innerHTML = '';\n",
              "          dataTable['output_type'] = 'display_data';\n",
              "          await google.colab.output.renderOutput(dataTable, element);\n",
              "          const docLink = document.createElement('div');\n",
              "          docLink.innerHTML = docLinkHtml;\n",
              "          element.appendChild(docLink);\n",
              "        }\n",
              "      </script>\n",
              "    </div>\n",
              "  </div>\n",
              "  "
            ]
          },
          "metadata": {},
          "execution_count": 5
        }
      ]
    },
    {
      "cell_type": "code",
      "source": [
        "arxiv_data = arxiv_data[~arxiv_data['titles'].duplicated()]\n",
        "print('There are {} registers in the deduplicated dataset'.format(len(arxiv_data)))"
      ],
      "metadata": {
        "colab": {
          "base_uri": "https://localhost:8080/"
        },
        "id": "-6nShsiK-Nf0",
        "outputId": "b81bf600-0c1d-4d73-f80f-b1b901312434"
      },
      "execution_count": null,
      "outputs": [
        {
          "output_type": "stream",
          "name": "stdout",
          "text": [
            "There are 38972 registers in the deduplicated dataset\n"
          ]
        }
      ]
    },
    {
      "cell_type": "code",
      "source": [
        "arxiv_data[\"terms\"].value_counts()"
      ],
      "metadata": {
        "colab": {
          "base_uri": "https://localhost:8080/"
        },
        "id": "G55KYUkA-PbT",
        "outputId": "b3f022ec-85b4-4a63-b7ba-d54442635fb3"
      },
      "execution_count": null,
      "outputs": [
        {
          "output_type": "execute_result",
          "data": {
            "text/plain": [
              "['cs.CV']                                          12747\n",
              "['cs.LG', 'stat.ML']                                4074\n",
              "['cs.LG']                                           2046\n",
              "['cs.CV', 'cs.LG']                                  1486\n",
              "['cs.LG', 'cs.AI']                                  1206\n",
              "                                                   ...  \n",
              "['cs.LG', 'cs.CL', 'cs.HC', 'stat.ML']                 1\n",
              "['cs.LG', 'cs.AI', 'cs.CL', 'cs.PL', 'stat.ML']        1\n",
              "['cs.LG', 'cs.CL', 'stat.ME', 'stat.ML']               1\n",
              "['cs.LG', 'cs.CL', 'cs.LO', 'stat.ML']                 1\n",
              "['stat.ML', 'cs.CV', 'cs.LG', 'q-bio.QM']              1\n",
              "Name: terms, Length: 3157, dtype: int64"
            ]
          },
          "metadata": {},
          "execution_count": 7
        }
      ]
    },
    {
      "cell_type": "code",
      "source": [
        "print(sum(arxiv_data[\"terms\"].value_counts() == 1))"
      ],
      "metadata": {
        "colab": {
          "base_uri": "https://localhost:8080/"
        },
        "id": "8OrbrN5G-QeO",
        "outputId": "0c0d8d58-d83a-49bc-dc26-e6b4586e3bee"
      },
      "execution_count": null,
      "outputs": [
        {
          "output_type": "stream",
          "name": "stdout",
          "text": [
            "2321\n"
          ]
        }
      ]
    },
    {
      "cell_type": "code",
      "source": [
        "print(arxiv_data[\"terms\"].nunique())"
      ],
      "metadata": {
        "colab": {
          "base_uri": "https://localhost:8080/"
        },
        "id": "OguJO8X--Sve",
        "outputId": "c723a7c1-a8ba-46d3-9cd4-f3348684225c"
      },
      "execution_count": null,
      "outputs": [
        {
          "output_type": "stream",
          "name": "stdout",
          "text": [
            "3157\n"
          ]
        }
      ]
    },
    {
      "cell_type": "code",
      "source": [
        "arxiv_data_filtered = arxiv_data.groupby(\"terms\").filter(lambda x: len(x) > 1)\n",
        "arxiv_data_filtered.shape"
      ],
      "metadata": {
        "colab": {
          "base_uri": "https://localhost:8080/"
        },
        "id": "-tvkGh5--Tul",
        "outputId": "271f3e6d-74db-4f8e-d89d-cf426ed2d2dc"
      },
      "execution_count": null,
      "outputs": [
        {
          "output_type": "execute_result",
          "data": {
            "text/plain": [
              "(36651, 3)"
            ]
          },
          "metadata": {},
          "execution_count": 10
        }
      ]
    },
    {
      "cell_type": "code",
      "source": [
        "arxiv_data_filtered.head()"
      ],
      "metadata": {
        "colab": {
          "base_uri": "https://localhost:8080/",
          "height": 206
        },
        "id": "xZve3IiR-VTO",
        "outputId": "68d5b370-fb71-436f-e7f9-38833be284d7"
      },
      "execution_count": null,
      "outputs": [
        {
          "output_type": "execute_result",
          "data": {
            "text/plain": [
              "                                              titles  \\\n",
              "0  Survey on Semantic Stereo Matching / Semantic ...   \n",
              "1  FUTURE-AI: Guiding Principles and Consensus Re...   \n",
              "2  Enforcing Mutual Consistency of Hard Regions f...   \n",
              "3  Parameter Decoupling Strategy for Semi-supervi...   \n",
              "4  Background-Foreground Segmentation for Interio...   \n",
              "\n",
              "                                           summaries  \\\n",
              "0  Stereo matching is one of the widely used tech...   \n",
              "1  The recent advancements in artificial intellig...   \n",
              "2  In this paper, we proposed a novel mutual cons...   \n",
              "3  Consistency training has proven to be an advan...   \n",
              "4  To ensure safety in automated driving, the cor...   \n",
              "\n",
              "                         terms  \n",
              "0           ['cs.CV', 'cs.LG']  \n",
              "1  ['cs.CV', 'cs.AI', 'cs.LG']  \n",
              "2           ['cs.CV', 'cs.AI']  \n",
              "3                    ['cs.CV']  \n",
              "4           ['cs.CV', 'cs.LG']  "
            ],
            "text/html": [
              "\n",
              "  <div id=\"df-7a4cd282-64f7-42c2-934d-a3aee6f50dae\">\n",
              "    <div class=\"colab-df-container\">\n",
              "      <div>\n",
              "<style scoped>\n",
              "    .dataframe tbody tr th:only-of-type {\n",
              "        vertical-align: middle;\n",
              "    }\n",
              "\n",
              "    .dataframe tbody tr th {\n",
              "        vertical-align: top;\n",
              "    }\n",
              "\n",
              "    .dataframe thead th {\n",
              "        text-align: right;\n",
              "    }\n",
              "</style>\n",
              "<table border=\"1\" class=\"dataframe\">\n",
              "  <thead>\n",
              "    <tr style=\"text-align: right;\">\n",
              "      <th></th>\n",
              "      <th>titles</th>\n",
              "      <th>summaries</th>\n",
              "      <th>terms</th>\n",
              "    </tr>\n",
              "  </thead>\n",
              "  <tbody>\n",
              "    <tr>\n",
              "      <th>0</th>\n",
              "      <td>Survey on Semantic Stereo Matching / Semantic ...</td>\n",
              "      <td>Stereo matching is one of the widely used tech...</td>\n",
              "      <td>['cs.CV', 'cs.LG']</td>\n",
              "    </tr>\n",
              "    <tr>\n",
              "      <th>1</th>\n",
              "      <td>FUTURE-AI: Guiding Principles and Consensus Re...</td>\n",
              "      <td>The recent advancements in artificial intellig...</td>\n",
              "      <td>['cs.CV', 'cs.AI', 'cs.LG']</td>\n",
              "    </tr>\n",
              "    <tr>\n",
              "      <th>2</th>\n",
              "      <td>Enforcing Mutual Consistency of Hard Regions f...</td>\n",
              "      <td>In this paper, we proposed a novel mutual cons...</td>\n",
              "      <td>['cs.CV', 'cs.AI']</td>\n",
              "    </tr>\n",
              "    <tr>\n",
              "      <th>3</th>\n",
              "      <td>Parameter Decoupling Strategy for Semi-supervi...</td>\n",
              "      <td>Consistency training has proven to be an advan...</td>\n",
              "      <td>['cs.CV']</td>\n",
              "    </tr>\n",
              "    <tr>\n",
              "      <th>4</th>\n",
              "      <td>Background-Foreground Segmentation for Interio...</td>\n",
              "      <td>To ensure safety in automated driving, the cor...</td>\n",
              "      <td>['cs.CV', 'cs.LG']</td>\n",
              "    </tr>\n",
              "  </tbody>\n",
              "</table>\n",
              "</div>\n",
              "      <button class=\"colab-df-convert\" onclick=\"convertToInteractive('df-7a4cd282-64f7-42c2-934d-a3aee6f50dae')\"\n",
              "              title=\"Convert this dataframe to an interactive table.\"\n",
              "              style=\"display:none;\">\n",
              "        \n",
              "  <svg xmlns=\"http://www.w3.org/2000/svg\" height=\"24px\"viewBox=\"0 0 24 24\"\n",
              "       width=\"24px\">\n",
              "    <path d=\"M0 0h24v24H0V0z\" fill=\"none\"/>\n",
              "    <path d=\"M18.56 5.44l.94 2.06.94-2.06 2.06-.94-2.06-.94-.94-2.06-.94 2.06-2.06.94zm-11 1L8.5 8.5l.94-2.06 2.06-.94-2.06-.94L8.5 2.5l-.94 2.06-2.06.94zm10 10l.94 2.06.94-2.06 2.06-.94-2.06-.94-.94-2.06-.94 2.06-2.06.94z\"/><path d=\"M17.41 7.96l-1.37-1.37c-.4-.4-.92-.59-1.43-.59-.52 0-1.04.2-1.43.59L10.3 9.45l-7.72 7.72c-.78.78-.78 2.05 0 2.83L4 21.41c.39.39.9.59 1.41.59.51 0 1.02-.2 1.41-.59l7.78-7.78 2.81-2.81c.8-.78.8-2.07 0-2.86zM5.41 20L4 18.59l7.72-7.72 1.47 1.35L5.41 20z\"/>\n",
              "  </svg>\n",
              "      </button>\n",
              "      \n",
              "  <style>\n",
              "    .colab-df-container {\n",
              "      display:flex;\n",
              "      flex-wrap:wrap;\n",
              "      gap: 12px;\n",
              "    }\n",
              "\n",
              "    .colab-df-convert {\n",
              "      background-color: #E8F0FE;\n",
              "      border: none;\n",
              "      border-radius: 50%;\n",
              "      cursor: pointer;\n",
              "      display: none;\n",
              "      fill: #1967D2;\n",
              "      height: 32px;\n",
              "      padding: 0 0 0 0;\n",
              "      width: 32px;\n",
              "    }\n",
              "\n",
              "    .colab-df-convert:hover {\n",
              "      background-color: #E2EBFA;\n",
              "      box-shadow: 0px 1px 2px rgba(60, 64, 67, 0.3), 0px 1px 3px 1px rgba(60, 64, 67, 0.15);\n",
              "      fill: #174EA6;\n",
              "    }\n",
              "\n",
              "    [theme=dark] .colab-df-convert {\n",
              "      background-color: #3B4455;\n",
              "      fill: #D2E3FC;\n",
              "    }\n",
              "\n",
              "    [theme=dark] .colab-df-convert:hover {\n",
              "      background-color: #434B5C;\n",
              "      box-shadow: 0px 1px 3px 1px rgba(0, 0, 0, 0.15);\n",
              "      filter: drop-shadow(0px 1px 2px rgba(0, 0, 0, 0.3));\n",
              "      fill: #FFFFFF;\n",
              "    }\n",
              "  </style>\n",
              "\n",
              "      <script>\n",
              "        const buttonEl =\n",
              "          document.querySelector('#df-7a4cd282-64f7-42c2-934d-a3aee6f50dae button.colab-df-convert');\n",
              "        buttonEl.style.display =\n",
              "          google.colab.kernel.accessAllowed ? 'block' : 'none';\n",
              "\n",
              "        async function convertToInteractive(key) {\n",
              "          const element = document.querySelector('#df-7a4cd282-64f7-42c2-934d-a3aee6f50dae');\n",
              "          const dataTable =\n",
              "            await google.colab.kernel.invokeFunction('convertToInteractive',\n",
              "                                                     [key], {});\n",
              "          if (!dataTable) return;\n",
              "\n",
              "          const docLinkHtml = 'Like what you see? Visit the ' +\n",
              "            '<a target=\"_blank\" href=https://colab.research.google.com/notebooks/data_table.ipynb>data table notebook</a>'\n",
              "            + ' to learn more about interactive tables.';\n",
              "          element.innerHTML = '';\n",
              "          dataTable['output_type'] = 'display_data';\n",
              "          await google.colab.output.renderOutput(dataTable, element);\n",
              "          const docLink = document.createElement('div');\n",
              "          docLink.innerHTML = docLinkHtml;\n",
              "          element.appendChild(docLink);\n",
              "        }\n",
              "      </script>\n",
              "    </div>\n",
              "  </div>\n",
              "  "
            ]
          },
          "metadata": {},
          "execution_count": 11
        }
      ]
    },
    {
      "cell_type": "code",
      "source": [
        "arxiv_data_filtered[\"terms\"].value_counts()"
      ],
      "metadata": {
        "colab": {
          "base_uri": "https://localhost:8080/"
        },
        "id": "_IsEqeF8-XYN",
        "outputId": "57b0eadb-582a-45e5-eda2-7b841443ae8b"
      },
      "execution_count": null,
      "outputs": [
        {
          "output_type": "execute_result",
          "data": {
            "text/plain": [
              "['cs.CV']                                                         12747\n",
              "['cs.LG', 'stat.ML']                                               4074\n",
              "['cs.LG']                                                          2046\n",
              "['cs.CV', 'cs.LG']                                                 1486\n",
              "['cs.LG', 'cs.AI']                                                 1206\n",
              "                                                                  ...  \n",
              "['cs.CV', 'cs.LG', 'eess.IV', 'eess.SP', 'stat.ML']                   2\n",
              "['cs.LG', 'cs.CL', 'cs.CV', 'cs.NE', 'stat.ML']                       2\n",
              "['stat.ML', 'cs.IT', 'cs.LG', 'math.IT', 'math.ST', 'stat.TH']        2\n",
              "['cs.CV', 'cs.CL', 'cs.LG', 'eess.AS', 'eess.IV']                     2\n",
              "['cs.LG', 'G.3']                                                      2\n",
              "Name: terms, Length: 836, dtype: int64"
            ]
          },
          "metadata": {},
          "execution_count": 12
        }
      ]
    },
    {
      "cell_type": "markdown",
      "source": [
        "## Convert the string labels to lists of strings"
      ],
      "metadata": {
        "id": "nZkAxFyQ-YmH"
      }
    },
    {
      "cell_type": "code",
      "source": [
        "arxiv_data_filtered[\"terms\"] = arxiv_data_filtered[\"terms\"].apply(lambda x: literal_eval(x))\n",
        "arxiv_data_filtered[\"terms\"]"
      ],
      "metadata": {
        "colab": {
          "base_uri": "https://localhost:8080/"
        },
        "id": "XWvvHMkS-d5P",
        "outputId": "dbacabe9-cb91-4607-a4df-d7c5eb67a0ba"
      },
      "execution_count": null,
      "outputs": [
        {
          "output_type": "execute_result",
          "data": {
            "text/plain": [
              "0                    [cs.CV, cs.LG]\n",
              "1             [cs.CV, cs.AI, cs.LG]\n",
              "2                    [cs.CV, cs.AI]\n",
              "3                           [cs.CV]\n",
              "4                    [cs.CV, cs.LG]\n",
              "                    ...            \n",
              "51767                       [cs.CV]\n",
              "51768                       [cs.CV]\n",
              "51770                [cs.CV, cs.DM]\n",
              "51771    [stat.ML, cs.LG, q-bio.GN]\n",
              "51772                       [cs.CV]\n",
              "Name: terms, Length: 36651, dtype: object"
            ]
          },
          "metadata": {},
          "execution_count": 13
        }
      ]
    },
    {
      "cell_type": "markdown",
      "source": [
        "## Use stratified splits because of class imbalance"
      ],
      "metadata": {
        "id": "zAF3JlKG-fXQ"
      }
    },
    {
      "cell_type": "code",
      "source": [
        "test_split = 0.1\n",
        "\n",
        "train_df, test_df = train_test_split(\n",
        "    arxiv_data_filtered,\n",
        "    test_size=test_split,\n",
        "    stratify = arxiv_data_filtered['terms'].values\n",
        ")\n",
        "\n",
        "val_df = test_df.sample(frac=0.5)\n",
        "test_df.drop(val_df.index, inplace=True)\n",
        "\n",
        "print('Number of registers in train set: {}'.format(len(train_df)))\n",
        "print('Number of registers in val set: {}'.format(len(val_df)))\n",
        "print('Number of registers in test set: {}'.format(len(test_df)))"
      ],
      "metadata": {
        "colab": {
          "base_uri": "https://localhost:8080/"
        },
        "id": "WniaLPDJ-iNn",
        "outputId": "f09e2d8e-af35-4d7f-a5d4-543aa937328a"
      },
      "execution_count": null,
      "outputs": [
        {
          "output_type": "stream",
          "name": "stdout",
          "text": [
            "Number of registers in train set: 32985\n",
            "Number of registers in val set: 1833\n",
            "Number of registers in test set: 1833\n"
          ]
        }
      ]
    },
    {
      "cell_type": "code",
      "source": [
        "terms = tf.ragged.constant(train_df['terms'].values)\n",
        "lookup = tf.keras.layers.StringLookup(output_mode='multi_hot')\n",
        "lookup.adapt(terms)"
      ],
      "metadata": {
        "id": "nEj9RRpI-k_k"
      },
      "execution_count": null,
      "outputs": []
    },
    {
      "cell_type": "code",
      "source": [
        "vocab = lookup.get_vocabulary()"
      ],
      "metadata": {
        "id": "6hONUYD--niX"
      },
      "execution_count": null,
      "outputs": []
    },
    {
      "cell_type": "code",
      "source": [
        "print(\"Vocabulary:\\n\")\n",
        "print(vocab)"
      ],
      "metadata": {
        "colab": {
          "base_uri": "https://localhost:8080/"
        },
        "id": "6qKB1hV6-pRD",
        "outputId": "587c0410-de19-4a1f-d12f-79705160a69c"
      },
      "execution_count": null,
      "outputs": [
        {
          "output_type": "stream",
          "name": "stdout",
          "text": [
            "Vocabulary:\n",
            "\n",
            "['[UNK]', 'cs.CV', 'cs.LG', 'stat.ML', 'cs.AI', 'eess.IV', 'cs.RO', 'cs.CL', 'cs.NE', 'cs.CR', 'math.OC', 'eess.SP', 'cs.GR', 'cs.SI', 'cs.MM', 'cs.SY', 'cs.IR', 'cs.MA', 'eess.SY', 'cs.HC', 'math.IT', 'cs.IT', 'cs.DC', 'cs.CY', 'stat.AP', 'stat.TH', 'math.ST', 'stat.ME', 'eess.AS', 'cs.SD', 'q-bio.QM', 'q-bio.NC', 'cs.DS', 'cs.GT', 'cs.SE', 'cs.CG', 'cs.NI', 'I.2.6', 'stat.CO', 'math.NA', 'cs.NA', 'physics.chem-ph', 'cs.DB', 'q-bio.BM', 'cs.LO', 'cs.PL', 'cond-mat.dis-nn', '68T45', 'math.PR', 'physics.comp-ph', 'cs.CE', 'cs.AR', 'I.2.10', 'q-fin.ST', 'cond-mat.stat-mech', 'math.DS', '68T05', 'quant-ph', 'physics.data-an', 'cs.CC', 'I.4.6', 'physics.soc-ph', 'physics.ao-ph', 'q-bio.GN', 'econ.EM', 'cs.DM', 'physics.med-ph', 'astro-ph.IM', 'I.4.8', 'math.AT', 'cs.PF', 'I.4', 'q-fin.TR', 'cs.FL', 'I.5.4', 'I.2', '68U10', 'hep-ex', '68T10', 'physics.optics', 'physics.geo-ph', 'cond-mat.mtrl-sci', 'q-fin.CP', 'physics.flu-dyn', 'math.CO', 'math.AP', 'I.4; I.5', 'I.4.9', 'I.2.6; I.2.8', '68T01', '65D19', 'nlin.CD', 'cs.MS', 'I.2.6; I.5.1', 'I.2.10; I.4; I.5', 'I.2.0; I.2.6', '68T07', 'cs.SC', 'cs.ET', 'K.3.2', 'I.2.8', '68U01', '68T30', '68', 'q-fin.GN', 'q-fin.EC', 'q-bio.MN', 'econ.GN', 'I.4.9; I.5.4', 'I.4.5', 'I.2; I.5', 'I.2; I.4; I.5', 'I.2.6; I.2.7', 'I.2.10; I.4.8', '68T99', '68Q32', '62H30', 'q-fin.RM', 'q-fin.PM', 'q-bio.TO', 'q-bio.OT', 'physics.bio-ph', 'nlin.AO', 'math.LO', 'math.FA', 'hep-ph', 'cond-mat.soft', 'I.4.6; I.4.8', 'I.4.4', 'I.4.3', 'I.4.0', 'I.2; J.2', 'I.2; I.2.6; I.2.7', 'I.2.7', 'I.2.6; I.5.4', 'I.2.6; I.2.9', 'I.2.6; I.2.7; H.3.1; H.3.3', 'I.2.6; I.2.10', 'I.2.6, I.5.4', 'I.2.1; J.3', 'I.2.10; I.5.1; I.4.8', 'I.2.10; I.4.8; I.5.4', 'I.2.10; I.2.6', 'I.2.1', 'H.3.1; I.2.6; I.2.7', 'H.3.1; H.3.3; I.2.6; I.2.7', 'G.3', 'F.2.2; I.2.7', 'E.5; E.4; E.2; H.1.1; F.1.1; F.1.3', '68Txx', '62H99', '62H35', '14J60 (Primary) 14F05, 14J26 (Secondary)']\n"
          ]
        }
      ]
    },
    {
      "cell_type": "code",
      "source": [
        "def invert_multi_hot(encoded_labels):\n",
        "  \"\"\"Reverse a single multi-hot encoded label to a tuple of vocab terms.\"\"\"\n",
        "  hot_indices = np.argwhere(encoded_labels==1.0)[..., 0]\n",
        "  return np.take(vocab, hot_indices)"
      ],
      "metadata": {
        "id": "EsM4wcst-qpO"
      },
      "execution_count": null,
      "outputs": []
    },
    {
      "cell_type": "code",
      "source": [
        "sample_label = train_df[\"terms\"].iloc[0]\n",
        "print('Original label:', sample_label)"
      ],
      "metadata": {
        "colab": {
          "base_uri": "https://localhost:8080/"
        },
        "id": "x0P2fGbR-sgx",
        "outputId": "498403cd-0b91-4718-b09e-6a3c4b90bd5f"
      },
      "execution_count": null,
      "outputs": [
        {
          "output_type": "stream",
          "name": "stdout",
          "text": [
            "Original label: ['cs.LG', 'cs.AI', 'stat.ML']\n"
          ]
        }
      ]
    },
    {
      "cell_type": "code",
      "source": [
        "label_binarized = lookup([sample_label])\n",
        "print('Label binarized:', label_binarized)"
      ],
      "metadata": {
        "colab": {
          "base_uri": "https://localhost:8080/"
        },
        "id": "Wdu8fKIy-uJY",
        "outputId": "20c39a53-df08-43c1-fc57-1bfb97e729f4"
      },
      "execution_count": null,
      "outputs": [
        {
          "output_type": "stream",
          "name": "stdout",
          "text": [
            "Label binarized: tf.Tensor(\n",
            "[[0. 0. 1. 1. 1. 0. 0. 0. 0. 0. 0. 0. 0. 0. 0. 0. 0. 0. 0. 0. 0. 0. 0. 0.\n",
            "  0. 0. 0. 0. 0. 0. 0. 0. 0. 0. 0. 0. 0. 0. 0. 0. 0. 0. 0. 0. 0. 0. 0. 0.\n",
            "  0. 0. 0. 0. 0. 0. 0. 0. 0. 0. 0. 0. 0. 0. 0. 0. 0. 0. 0. 0. 0. 0. 0. 0.\n",
            "  0. 0. 0. 0. 0. 0. 0. 0. 0. 0. 0. 0. 0. 0. 0. 0. 0. 0. 0. 0. 0. 0. 0. 0.\n",
            "  0. 0. 0. 0. 0. 0. 0. 0. 0. 0. 0. 0. 0. 0. 0. 0. 0. 0. 0. 0. 0. 0. 0. 0.\n",
            "  0. 0. 0. 0. 0. 0. 0. 0. 0. 0. 0. 0. 0. 0. 0. 0. 0. 0. 0. 0. 0. 0. 0. 0.\n",
            "  0. 0. 0. 0. 0. 0. 0. 0. 0.]], shape=(1, 153), dtype=float32)\n"
          ]
        }
      ]
    },
    {
      "cell_type": "code",
      "source": [
        "train_df['summaries'].apply(lambda x: len(x.split())).describe()"
      ],
      "metadata": {
        "colab": {
          "base_uri": "https://localhost:8080/"
        },
        "id": "MRFMMT28-vnY",
        "outputId": "11771048-d223-402a-f51a-a74b3397d25e"
      },
      "execution_count": null,
      "outputs": [
        {
          "output_type": "execute_result",
          "data": {
            "text/plain": [
              "count    32985.000000\n",
              "mean       171.520994\n",
              "std         45.410933\n",
              "min          5.000000\n",
              "25%        140.000000\n",
              "50%        169.000000\n",
              "75%        201.000000\n",
              "max        326.000000\n",
              "Name: summaries, dtype: float64"
            ]
          },
          "metadata": {},
          "execution_count": 21
        }
      ]
    },
    {
      "cell_type": "code",
      "source": [
        "# train\n",
        "text_train = list(train_df['summaries'])\n",
        "y_train = lookup(tf.ragged.constant(train_df[\"terms\"].values)).numpy()\n",
        "\n",
        "# validation\n",
        "text_val = list(val_df['summaries'])\n",
        "y_val = lookup(tf.ragged.constant(val_df[\"terms\"].values)).numpy()\n",
        "\n",
        "# test\n",
        "text_test = list(test_df['summaries'])\n",
        "y_test = lookup(tf.ragged.constant(test_df[\"terms\"].values)).numpy()"
      ],
      "metadata": {
        "id": "VU4HaAkB_yMZ"
      },
      "execution_count": null,
      "outputs": []
    },
    {
      "cell_type": "code",
      "source": [
        "maxlen = 150\n",
        "batch_size = 128\n",
        "max_words = 10000 # considers only the top 10000 words in dataset"
      ],
      "metadata": {
        "id": "MW-otHAnCSWe"
      },
      "execution_count": null,
      "outputs": []
    },
    {
      "cell_type": "code",
      "source": [
        "tokenizer = Tokenizer(num_words=max_words)\n",
        "tokenizer.fit_on_texts(text_train)\n",
        "sequences_train = tokenizer.texts_to_sequences(text_train)"
      ],
      "metadata": {
        "id": "8Af8WZAv_yO5"
      },
      "execution_count": null,
      "outputs": []
    },
    {
      "cell_type": "code",
      "source": [
        "print(len(sequences_train))\n",
        "print(len(sequences_train[0]))\n",
        "print(sequences_train[0])"
      ],
      "metadata": {
        "colab": {
          "base_uri": "https://localhost:8080/"
        },
        "id": "H0d1uoUV_yRS",
        "outputId": "bfeb2e1c-d4cf-4c54-84b4-c3b6f0176d7f"
      },
      "execution_count": null,
      "outputs": [
        {
          "output_type": "stream",
          "name": "stdout",
          "text": [
            "32985\n",
            "163\n",
            "[127, 14, 102, 24, 45, 563, 1165, 6, 32, 77, 35, 2631, 13, 60, 376, 4459, 6, 12, 39, 7, 520, 185, 12, 2926, 2150, 203, 110, 1, 506, 8, 4, 329, 2150, 500, 11, 283, 105, 234, 376, 4459, 6, 306, 7, 214, 967, 40, 8, 136, 4, 520, 5, 90, 3213, 2, 2150, 500, 277, 1011, 2, 3831, 8271, 51, 557, 40, 8, 136, 4, 797, 9, 178, 2, 942, 42, 16, 41, 9, 12, 7, 456, 1, 3983, 376, 297, 3, 680, 203, 102, 1, 1665, 55, 13, 3, 158, 7, 514, 58, 4, 707, 1, 81, 10, 1, 6956, 2912, 65, 3, 1, 5155, 5936, 9395, 317, 65, 7, 84, 11, 1011, 263, 6003, 1754, 1, 203, 3, 11, 3492, 397, 496, 74, 645, 6, 1065, 2150, 500, 11, 283, 136, 234, 376, 4459, 21, 17, 78, 7, 2392, 11, 680, 203, 13, 5, 347, 238, 1773, 149, 8, 1, 300, 1396, 9, 2150, 203, 6, 127, 14, 62]\n"
          ]
        }
      ]
    },
    {
      "cell_type": "code",
      "source": [
        "word_index = tokenizer.word_index\n",
        "print('Found {} unique tokens'.format(len(word_index)))"
      ],
      "metadata": {
        "colab": {
          "base_uri": "https://localhost:8080/"
        },
        "id": "j8NYvwnM_yTs",
        "outputId": "0694999d-e829-4af8-a71a-bcd78f3bbb5e"
      },
      "execution_count": null,
      "outputs": [
        {
          "output_type": "stream",
          "name": "stdout",
          "text": [
            "Found 55628 unique tokens\n"
          ]
        }
      ]
    },
    {
      "cell_type": "code",
      "source": [
        "x_train = pad_sequences(tokenizer.texts_to_sequences(text_train), maxlen=maxlen, padding='post', truncating='post')\n",
        "x_val = pad_sequences(tokenizer.texts_to_sequences(text_val), maxlen=maxlen, padding='post', truncating='post')\n",
        "x_test = pad_sequences(tokenizer.texts_to_sequences(text_test), maxlen=maxlen, padding='post', truncating='post')"
      ],
      "metadata": {
        "id": "PkYl8PQ-_yYX"
      },
      "execution_count": null,
      "outputs": []
    },
    {
      "cell_type": "code",
      "source": [
        "print(len(x_train[0]))\n",
        "print(x_train[0])"
      ],
      "metadata": {
        "colab": {
          "base_uri": "https://localhost:8080/"
        },
        "id": "Gyb3xqs4_ya5",
        "outputId": "90f8ba46-3781-4bfe-b9d8-ffd8b14c631d"
      },
      "execution_count": null,
      "outputs": [
        {
          "output_type": "stream",
          "name": "stdout",
          "text": [
            "150\n",
            "[ 127   14  102   24   45  563 1165    6   32   77   35 2631   13   60\n",
            "  376 4459    6   12   39    7  520  185   12 2926 2150  203  110    1\n",
            "  506    8    4  329 2150  500   11  283  105  234  376 4459    6  306\n",
            "    7  214  967   40    8  136    4  520    5   90 3213    2 2150  500\n",
            "  277 1011    2 3831 8271   51  557   40    8  136    4  797    9  178\n",
            "    2  942   42   16   41    9   12    7  456    1 3983  376  297    3\n",
            "  680  203  102    1 1665   55   13    3  158    7  514   58    4  707\n",
            "    1   81   10    1 6956 2912   65    3    1 5155 5936 9395  317   65\n",
            "    7   84   11 1011  263 6003 1754    1  203    3   11 3492  397  496\n",
            "   74  645    6 1065 2150  500   11  283  136  234  376 4459   21   17\n",
            "   78    7 2392   11  680  203   13    5  347  238]\n"
          ]
        }
      ]
    },
    {
      "cell_type": "code",
      "source": [
        "print('Shape of data_train tensor:', x_train.shape)\n",
        "print('Shape of labels_train tensor:', y_train.shape)\n",
        "print()\n",
        "print('Shape of data_val tensor:', x_val.shape)\n",
        "print('Shape of labels_val tensor:', y_val.shape)\n",
        "print()\n",
        "print('Shape of data_test tensor:', x_test.shape)\n",
        "print('Shape of labels_test tensor:', y_test.shape)"
      ],
      "metadata": {
        "colab": {
          "base_uri": "https://localhost:8080/"
        },
        "id": "0b5a27qy_ydN",
        "outputId": "1e1e5a4a-fb6c-4f1b-b9d3-afb31bba8d7c"
      },
      "execution_count": null,
      "outputs": [
        {
          "output_type": "stream",
          "name": "stdout",
          "text": [
            "Shape of data_train tensor: (32985, 150)\n",
            "Shape of labels_train tensor: (32985, 153)\n",
            "\n",
            "Shape of data_val tensor: (1833, 150)\n",
            "Shape of labels_val tensor: (1833, 153)\n",
            "\n",
            "Shape of data_test tensor: (1833, 150)\n",
            "Shape of labels_test tensor: (1833, 153)\n"
          ]
        }
      ]
    },
    {
      "cell_type": "markdown",
      "source": [
        "## GloVe embedding"
      ],
      "metadata": {
        "id": "HDEu6fwXCt9M"
      }
    },
    {
      "cell_type": "code",
      "source": [
        "!wget https://nlp.stanford.edu/data/glove.6B.zip\n",
        "!unzip glove.6B.zip"
      ],
      "metadata": {
        "colab": {
          "base_uri": "https://localhost:8080/"
        },
        "id": "6wTHreqxD4-R",
        "outputId": "941ee9f7-6682-4686-b1f4-5d1a024fb455"
      },
      "execution_count": null,
      "outputs": [
        {
          "output_type": "stream",
          "name": "stdout",
          "text": [
            "--2022-12-09 22:44:19--  https://nlp.stanford.edu/data/glove.6B.zip\n",
            "Resolving nlp.stanford.edu (nlp.stanford.edu)... 171.64.67.140\n",
            "Connecting to nlp.stanford.edu (nlp.stanford.edu)|171.64.67.140|:443... connected.\n",
            "HTTP request sent, awaiting response... 301 Moved Permanently\n",
            "Location: https://downloads.cs.stanford.edu/nlp/data/glove.6B.zip [following]\n",
            "--2022-12-09 22:44:20--  https://downloads.cs.stanford.edu/nlp/data/glove.6B.zip\n",
            "Resolving downloads.cs.stanford.edu (downloads.cs.stanford.edu)... 171.64.64.22\n",
            "Connecting to downloads.cs.stanford.edu (downloads.cs.stanford.edu)|171.64.64.22|:443... connected.\n",
            "HTTP request sent, awaiting response... 200 OK\n",
            "Length: 862182613 (822M) [application/zip]\n",
            "Saving to: ‘glove.6B.zip’\n",
            "\n",
            "glove.6B.zip        100%[===================>] 822.24M  5.01MB/s    in 2m 39s  \n",
            "\n",
            "2022-12-09 22:46:59 (5.16 MB/s) - ‘glove.6B.zip’ saved [862182613/862182613]\n",
            "\n",
            "Archive:  glove.6B.zip\n",
            "  inflating: glove.6B.50d.txt        \n",
            "  inflating: glove.6B.100d.txt       \n",
            "  inflating: glove.6B.200d.txt       \n",
            "  inflating: glove.6B.300d.txt       \n"
          ]
        }
      ]
    },
    {
      "cell_type": "code",
      "source": [
        "embeddings_index = {}\n",
        "\n",
        "f = open('glove.6B.100d.txt')\n",
        "for line in f:\n",
        "  values = line.split()\n",
        "  word = values[0]\n",
        "  coefs = np.asarray(values[1:], dtype='float32')\n",
        "  embeddings_index[word] = coefs\n",
        "f.close()\n",
        "print('Found {} word vectors'.format(len(embeddings_index)))"
      ],
      "metadata": {
        "colab": {
          "base_uri": "https://localhost:8080/"
        },
        "id": "sYKUY8BbCt_h",
        "outputId": "2015e803-48da-4e9e-a0e7-df111803f1fd"
      },
      "execution_count": null,
      "outputs": [
        {
          "output_type": "stream",
          "name": "stdout",
          "text": [
            "Found 400000 word vectors\n"
          ]
        }
      ]
    },
    {
      "cell_type": "code",
      "source": [
        "embedding_dim = 100\n",
        "embedding_matrix = np.zeros((max_words, embedding_dim))\n",
        "for word, i in word_index.items():\n",
        "  if i < max_words:\n",
        "    embedding_vector = embeddings_index.get(word)\n",
        "    if embedding_vector is not None:\n",
        "      embedding_matrix[i] = embedding_vector"
      ],
      "metadata": {
        "id": "dCVGKsI6CuB-"
      },
      "execution_count": null,
      "outputs": []
    },
    {
      "cell_type": "markdown",
      "source": [
        "## Model"
      ],
      "metadata": {
        "id": "XlOzbgsmCuEa"
      }
    },
    {
      "cell_type": "code",
      "source": [
        "model = keras.models.Sequential([\n",
        "    layers.Embedding(max_words, embedding_dim, input_length=maxlen),\n",
        "    layers.Bidirectional(layers.LSTM(64)),\n",
        "    keras.layers.Dense(64, activation='relu'),\n",
        "    layers.Dense(lookup.vocabulary_size(), activation='sigmoid')\n",
        "])\n",
        "\n",
        "model.summary()"
      ],
      "metadata": {
        "colab": {
          "base_uri": "https://localhost:8080/"
        },
        "id": "677sFZliCuGu",
        "outputId": "8276b6ab-23af-496f-d7fe-818236cde693"
      },
      "execution_count": null,
      "outputs": [
        {
          "output_type": "stream",
          "name": "stdout",
          "text": [
            "Model: \"sequential\"\n",
            "_________________________________________________________________\n",
            " Layer (type)                Output Shape              Param #   \n",
            "=================================================================\n",
            " embedding (Embedding)       (None, 150, 100)          1000000   \n",
            "                                                                 \n",
            " bidirectional (Bidirectiona  (None, 128)              84480     \n",
            " l)                                                              \n",
            "                                                                 \n",
            " dense (Dense)               (None, 64)                8256      \n",
            "                                                                 \n",
            " dense_1 (Dense)             (None, 153)               9945      \n",
            "                                                                 \n",
            "=================================================================\n",
            "Total params: 1,102,681\n",
            "Trainable params: 1,102,681\n",
            "Non-trainable params: 0\n",
            "_________________________________________________________________\n"
          ]
        }
      ]
    },
    {
      "cell_type": "code",
      "source": [
        "model.layers[0].set_weights([embedding_matrix])\n",
        "model.layers[0].trainable = False\n",
        "model.summary()"
      ],
      "metadata": {
        "colab": {
          "base_uri": "https://localhost:8080/"
        },
        "id": "1pqMnPiwFa2b",
        "outputId": "cc15280d-a62b-4e5f-daca-d27ec365e45c"
      },
      "execution_count": null,
      "outputs": [
        {
          "output_type": "stream",
          "name": "stdout",
          "text": [
            "Model: \"sequential\"\n",
            "_________________________________________________________________\n",
            " Layer (type)                Output Shape              Param #   \n",
            "=================================================================\n",
            " embedding (Embedding)       (None, 150, 100)          1000000   \n",
            "                                                                 \n",
            " bidirectional (Bidirectiona  (None, 128)              84480     \n",
            " l)                                                              \n",
            "                                                                 \n",
            " dense (Dense)               (None, 64)                8256      \n",
            "                                                                 \n",
            " dense_1 (Dense)             (None, 153)               9945      \n",
            "                                                                 \n",
            "=================================================================\n",
            "Total params: 1,102,681\n",
            "Trainable params: 102,681\n",
            "Non-trainable params: 1,000,000\n",
            "_________________________________________________________________\n"
          ]
        }
      ]
    },
    {
      "cell_type": "code",
      "source": [
        "early_stopping = keras.callbacks.EarlyStopping(\n",
        "    patience=3,\n",
        "    monitor='val_loss',\n",
        "    min_delta=0.001,\n",
        "    mode='min',\n",
        "    verbose=1,\n",
        "    restore_best_weights=True,\n",
        ")"
      ],
      "metadata": {
        "id": "8aBdJ-YeE8dx"
      },
      "execution_count": null,
      "outputs": []
    },
    {
      "cell_type": "code",
      "source": [
        "epochs = 20\n",
        "\n",
        "model.compile(\n",
        "    loss=\"binary_crossentropy\", optimizer=\"adam\", metrics=[\"categorical_accuracy\"]\n",
        ")\n",
        "\n",
        "history = model.fit(\n",
        "    x_train,\n",
        "    y_train,\n",
        "    epochs=epochs,\n",
        "    batch_size=batch_size,\n",
        "    validation_data=(x_val, y_val),\n",
        "    callbacks=[early_stopping]\n",
        ")\n",
        "\n",
        "\n",
        "def plot_result(item):\n",
        "  plt.plot(history.history[item], label=item)\n",
        "  plt.plot(history.history[\"val_\" + item], label=\"val_\" + item)\n",
        "  plt.xlabel(\"Epochs\")\n",
        "  plt.ylabel(item)\n",
        "  plt.title(\"Train and Validation {} Over Epochs\".format(item), fontsize=14)\n",
        "  plt.legend()\n",
        "  plt.grid()\n",
        "  plt.show()\n",
        "\n",
        "plot_result(\"loss\")\n",
        "plot_result(\"categorical_accuracy\")"
      ],
      "metadata": {
        "colab": {
          "base_uri": "https://localhost:8080/",
          "height": 853
        },
        "id": "dlYnUMuwCuJJ",
        "outputId": "38ccd559-658a-4d4a-fa81-6f5aa456942a"
      },
      "execution_count": null,
      "outputs": [
        {
          "output_type": "stream",
          "name": "stdout",
          "text": [
            "Epoch 1/20\n",
            "258/258 [==============================] - 155s 579ms/step - loss: 0.0704 - categorical_accuracy: 0.4925 - val_loss: 0.0269 - val_categorical_accuracy: 0.5434\n",
            "Epoch 2/20\n",
            "258/258 [==============================] - 143s 556ms/step - loss: 0.0256 - categorical_accuracy: 0.7003 - val_loss: 0.0214 - val_categorical_accuracy: 0.8794\n",
            "Epoch 3/20\n",
            "258/258 [==============================] - 144s 558ms/step - loss: 0.0218 - categorical_accuracy: 0.8717 - val_loss: 0.0206 - val_categorical_accuracy: 0.8773\n",
            "Epoch 4/20\n",
            "258/258 [==============================] - 146s 567ms/step - loss: 0.0212 - categorical_accuracy: 0.8792 - val_loss: 0.0203 - val_categorical_accuracy: 0.8849\n",
            "Epoch 5/20\n",
            "258/258 [==============================] - 136s 525ms/step - loss: 0.0209 - categorical_accuracy: 0.8842 - val_loss: 0.0203 - val_categorical_accuracy: 0.8712\n",
            "Epoch 6/20\n",
            "258/258 [==============================] - 156s 604ms/step - loss: 0.0206 - categorical_accuracy: 0.8871 - val_loss: 0.0200 - val_categorical_accuracy: 0.8974\n",
            "Epoch 7/20\n",
            "258/258 [==============================] - ETA: 0s - loss: 0.0204 - categorical_accuracy: 0.8895Restoring model weights from the end of the best epoch: 4.\n",
            "258/258 [==============================] - 157s 606ms/step - loss: 0.0204 - categorical_accuracy: 0.8895 - val_loss: 0.0197 - val_categorical_accuracy: 0.8936\n",
            "Epoch 7: early stopping\n"
          ]
        },
        {
          "output_type": "display_data",
          "data": {
            "text/plain": [
              "<Figure size 432x288 with 1 Axes>"
            ],
            "image/png": "[encoded data removed]"
          },
          "metadata": {
            "needs_background": "light"
          }
        },
        {
          "output_type": "display_data",
          "data": {
            "text/plain": [
              "<Figure size 432x288 with 1 Axes>"
            ],
            "image/png": "[encoded data removed]"
          },
          "metadata": {
            "needs_background": "light"
          }
        }
      ]
    },
    {
      "cell_type": "code",
      "source": [
        "_, categorical_acc = model.evaluate(x_val, y_val)\n",
        "print(f\"Categorical accuracy on the test set: {round(categorical_acc * 100, 2)}%.\")"
      ],
      "metadata": {
        "colab": {
          "base_uri": "https://localhost:8080/"
        },
        "id": "gwtQilLlHJIb",
        "outputId": "cab7d2a1-2240-40c8-c457-721c78f45486"
      },
      "execution_count": null,
      "outputs": [
        {
          "output_type": "stream",
          "name": "stdout",
          "text": [
            "58/58 [==============================] - 3s 46ms/step - loss: 0.0203 - categorical_accuracy: 0.8849\n",
            "Categorical accuracy on the test set: 88.49%.\n"
          ]
        }
      ]
    },
    {
      "cell_type": "markdown",
      "source": [
        "## Inference"
      ],
      "metadata": {
        "id": "0rj0Ojb5Htld"
      }
    },
    {
      "cell_type": "code",
      "source": [
        "for text_, x_, label_ in zip(text_test[:5], x_test[:5], y_test[:5]):\n",
        "  print(f\"Abstract: {text_}\")\n",
        "  print(f\"Label(s): {invert_multi_hot(label_)}\")\n",
        "  predicted_probabilities = model.predict(x_[np.newaxis, ...])\n",
        "  predicted_proba = [proba for proba in predicted_probabilities[0]]\n",
        "  top_3_labels = {}\n",
        "  for score, x in sorted(zip(predicted_probabilities[0], lookup.get_vocabulary()), key=lambda pair: pair[0], reverse=True)[:3]:\n",
        "    top_3_labels[x] = round(score, 3)\n",
        "  print(top_3_labels)\n",
        "  print(f\"Predicted Label(s): ({', '.join([label for label in top_3_labels])})\")\n",
        "  print(\" \")"
      ],
      "metadata": {
        "colab": {
          "base_uri": "https://localhost:8080/"
        },
        "id": "yJPJPQxgIeV2",
        "outputId": "aa9b16b0-b2ab-4d1b-dca3-6f6084f7596e"
      },
      "execution_count": null,
      "outputs": [
        {
          "output_type": "stream",
          "name": "stdout",
          "text": [
            "Abstract: Recent neural view synthesis methods have achieved impressive quality and\n",
            "realism, surpassing classical pipelines which rely on multi-view\n",
            "reconstruction. State-of-the-Art methods, such as NeRF, are designed to learn a\n",
            "single scene with a neural network and require dense multi-view inputs. Testing\n",
            "on a new scene requires re-training from scratch, which takes 2-3 days. In this\n",
            "work, we introduce Stereo Radiance Fields (SRF), a neural view synthesis\n",
            "approach that is trained end-to-end, generalizes to new scenes, and requires\n",
            "only sparse views at test time. The core idea is a neural architecture inspired\n",
            "by classical multi-view stereo methods, which estimates surface points by\n",
            "finding similar image regions in stereo images. In SRF, we predict color and\n",
            "density for each 3D point given an encoding of its stereo correspondence in the\n",
            "input images. The encoding is implicitly learned by an ensemble of pair-wise\n",
            "similarities -- emulating classical stereo. Experiments show that SRF learns\n",
            "structure instead of overfitting on a scene. We train on multiple scenes of the\n",
            "DTU dataset and generalize to new ones without re-training, requiring only 10\n",
            "sparse and spread-out views as input. We show that 10-15 minutes of fine-tuning\n",
            "further improve the results, achieving significantly sharper, more detailed\n",
            "results than scene-specific models. The code, model, and videos are available\n",
            "at https://virtualhumans.mpi-inf.mpg.de/srf/.\n",
            "Label(s): ['cs.CV' 'cs.LG']\n",
            "1/1 [==============================] - 0s 61ms/step\n",
            "{'cs.CV': 0.982, 'cs.LG': 0.169, 'eess.IV': 0.069}\n",
            "Predicted Label(s): (cs.CV, cs.LG, eess.IV)\n",
            " \n",
            "Abstract: Graph convolutional networks produce good predictions of unlabeled samples\n",
            "due to its transductive label propagation. Since samples have different\n",
            "predicted confidences, we take high-confidence predictions as pseudo labels to\n",
            "expand the label set so that more samples are selected for updating models. We\n",
            "propose a new training method named as mutual teaching, i.e., we train dual\n",
            "models and let them teach each other during each batch. First, each network\n",
            "feeds forward all samples and selects samples with high-confidence predictions.\n",
            "Second, each model is updated by samples selected by its peer network. We view\n",
            "the high-confidence predictions as useful knowledge, and the useful knowledge\n",
            "of one network teaches the peer network with model updating in each batch. In\n",
            "mutual teaching, the pseudo-label set of a network is from its peer network.\n",
            "Since we use the new strategy of network training, performance improves\n",
            "significantly. Extensive experimental results demonstrate that our method\n",
            "achieves superior performance over state-of-the-art methods under very low\n",
            "label rates.\n",
            "Label(s): ['cs.CV' 'cs.LG' 'stat.ML']\n",
            "1/1 [==============================] - 0s 53ms/step\n",
            "{'cs.LG': 0.934, 'stat.ML': 0.627, 'cs.AI': 0.151}\n",
            "Predicted Label(s): (cs.LG, stat.ML, cs.AI)\n",
            " \n",
            "Abstract: Medical image segmentation being a substantial component of image processing\n",
            "plays a significant role to analyze gross anatomy, to locate an infirmity and\n",
            "to plan the surgical procedures. Segmentation of brain Magnetic Resonance\n",
            "Imaging (MRI) is of considerable importance for the accurate diagnosis.\n",
            "However, precise and accurate segmentation of brain MRI is a challenging task.\n",
            "Here, we present an efficient framework for segmentation of brain MR images.\n",
            "For this purpose, Gabor transform method is used to compute features of brain\n",
            "MRI. Then, these features are classified by using four different classifiers\n",
            "i.e., Incremental Supervised Neural Network (ISNN), K-Nearest Neighbor (KNN),\n",
            "Probabilistic Neural Network (PNN), and Support Vector Machine (SVM).\n",
            "Performance of these classifiers is investigated over different images of brain\n",
            "MRI and the variation in the performance of these classifiers is observed for\n",
            "different brain tissues. Thus, we proposed a rule-based hybrid approach to\n",
            "segment brain MRI. Experimental results show that the performance of these\n",
            "classifiers varies over each tissue MRI and the proposed rule-based hybrid\n",
            "approach exhibits better segmentation of brain MRI tissues.\n",
            "Label(s): ['cs.CV']\n",
            "1/1 [==============================] - 0s 56ms/step\n",
            "{'cs.CV': 0.992, 'cs.LG': 0.106, 'eess.IV': 0.098}\n",
            "Predicted Label(s): (cs.CV, cs.LG, eess.IV)\n",
            " \n",
            "Abstract: Many modern machine learning models are trained to achieve zero or near-zero\n",
            "training error in order to obtain near-optimal (but non-zero) test error. This\n",
            "phenomenon of strong generalization performance for \"overfitted\" / interpolated\n",
            "classifiers appears to be ubiquitous in high-dimensional data, having been\n",
            "observed in deep networks, kernel machines, boosting and random forests. Their\n",
            "performance is consistently robust even when the data contain large amounts of\n",
            "label noise.\n",
            "  Very little theory is available to explain these observations. The vast\n",
            "majority of theoretical analyses of generalization allows for interpolation\n",
            "only when there is little or no label noise. This paper takes a step toward a\n",
            "theoretical foundation for interpolated classifiers by analyzing local\n",
            "interpolating schemes, including geometric simplicial interpolation algorithm\n",
            "and singularly weighted $k$-nearest neighbor schemes. Consistency or\n",
            "near-consistency is proved for these schemes in classification and regression\n",
            "problems. Moreover, the nearest neighbor schemes exhibit optimal rates under\n",
            "some standard statistical assumptions.\n",
            "  Finally, this paper suggests a way to explain the phenomenon of adversarial\n",
            "examples, which are seemingly ubiquitous in modern machine learning, and also\n",
            "discusses some connections to kernel machines and random forests in the\n",
            "interpolated regime.\n",
            "Label(s): ['cs.LG' 'stat.ML' 'cond-mat.stat-mech']\n",
            "1/1 [==============================] - 0s 80ms/step\n",
            "{'cs.LG': 0.949, 'stat.ML': 0.678, 'cs.AI': 0.299}\n",
            "Predicted Label(s): (cs.LG, stat.ML, cs.AI)\n",
            " \n",
            "Abstract: Semi-supervised learning on graph structured data has received significant\n",
            "attention with the recent introduction of Graph Convolution Networks (GCN).\n",
            "While traditional methods have focused on optimizing a loss augmented with\n",
            "Laplacian regularization framework, GCNs perform an implicit Laplacian type\n",
            "regularization to capture local graph structure. In this work, we propose\n",
            "Lovasz Convolutional Network (LCNs) which are capable of incorporating global\n",
            "graph properties. LCNs achieve this by utilizing Lovasz's orthonormal\n",
            "embeddings of the nodes. We analyse local and global properties of graphs and\n",
            "demonstrate settings where LCNs tend to work better than GCNs. We validate the\n",
            "proposed method on standard random graph models such as stochastic block models\n",
            "(SBM) and certain community structure based graphs where LCNs outperform GCNs\n",
            "and learn more intuitive embeddings. We also perform extensive binary and\n",
            "multi-class classification experiments on real world datasets to demonstrate\n",
            "LCN's effectiveness. In addition to simple graphs, we also demonstrate the use\n",
            "of LCNs on hyper-graphs by identifying settings where they are expected to work\n",
            "better than GCNs.\n",
            "Label(s): ['cs.LG' 'stat.ML']\n",
            "1/1 [==============================] - 0s 58ms/step\n",
            "{'cs.LG': 0.924, 'stat.ML': 0.633, 'cs.AI': 0.186}\n",
            "Predicted Label(s): (cs.LG, stat.ML, cs.AI)\n",
            " \n"
          ]
        }
      ]
    },
    {
      "cell_type": "code",
      "source": [],
      "metadata": {
        "id": "1TjtiRSzJymI"
      },
      "execution_count": null,
      "outputs": []
    }
  ]
}